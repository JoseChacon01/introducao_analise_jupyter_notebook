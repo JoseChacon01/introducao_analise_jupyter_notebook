{
  "nbformat": 4,
  "nbformat_minor": 0,
  "metadata": {
    "colab": {
      "provenance": []
    },
    "kernelspec": {
      "name": "python3",
      "display_name": "Python 3"
    },
    "language_info": {
      "name": "python"
    }
  },
  "cells": [
    {
      "cell_type": "markdown",
      "source": [
        "**Listas** - Armazenam valores em ordem*"
      ],
      "metadata": {
        "id": "zc5mj4vDrhNW"
      }
    },
    {
      "cell_type": "code",
      "execution_count": null,
      "metadata": {
        "colab": {
          "base_uri": "https://localhost:8080/"
        },
        "id": "XFUy4QkwqEcT",
        "outputId": "6968bec5-88dd-4ed5-a9b8-323997f7039e"
      },
      "outputs": [
        {
          "output_type": "execute_result",
          "data": {
            "text/plain": [
              "['Fabricio Daniel', 9.5, 9.0, 8.0, True]"
            ]
          },
          "metadata": {},
          "execution_count": 1
        }
      ],
      "source": [
        "# Nome do aluno - notas - situação\n",
        "\n",
        "lista = ['Fabricio Daniel',9.5,9.0,8.0,True]\n",
        "lista"
      ]
    },
    {
      "cell_type": "code",
      "source": [
        "#Acessando elementos na lista\n",
        "\n",
        "lista[0]"
      ],
      "metadata": {
        "colab": {
          "base_uri": "https://localhost:8080/",
          "height": 35
        },
        "id": "f_NvLlgNsMi1",
        "outputId": "a9d92835-0ac2-46e6-dfd3-b815e63e49fd"
      },
      "execution_count": null,
      "outputs": [
        {
          "output_type": "execute_result",
          "data": {
            "text/plain": [
              "'Fabricio Daniel'"
            ],
            "application/vnd.google.colaboratory.intrinsic+json": {
              "type": "string"
            }
          },
          "metadata": {},
          "execution_count": 4
        }
      ]
    },
    {
      "cell_type": "code",
      "source": [
        "lista[1]"
      ],
      "metadata": {
        "colab": {
          "base_uri": "https://localhost:8080/"
        },
        "id": "pexqg6cRshY_",
        "outputId": "abd7c688-2350-4f86-ead9-1423d832431d"
      },
      "execution_count": null,
      "outputs": [
        {
          "output_type": "execute_result",
          "data": {
            "text/plain": [
              "9.5"
            ]
          },
          "metadata": {},
          "execution_count": 5
        }
      ]
    },
    {
      "cell_type": "markdown",
      "source": [
        "Tambem podemo acessar os elemntos de tras pra frente:"
      ],
      "metadata": {
        "id": "itNPAlrKsuJ4"
      }
    },
    {
      "cell_type": "code",
      "source": [
        "lista[-1]"
      ],
      "metadata": {
        "colab": {
          "base_uri": "https://localhost:8080/"
        },
        "id": "ALRSfcEFs0C9",
        "outputId": "a3f4563a-9e9a-4714-ca53-4e4fe49bd43f"
      },
      "execution_count": null,
      "outputs": [
        {
          "output_type": "execute_result",
          "data": {
            "text/plain": [
              "True"
            ]
          },
          "metadata": {},
          "execution_count": 6
        }
      ]
    },
    {
      "cell_type": "code",
      "source": [
        "lista[-2]"
      ],
      "metadata": {
        "colab": {
          "base_uri": "https://localhost:8080/"
        },
        "id": "4gBWLKFls5z5",
        "outputId": "d007e6ec-72ef-4065-8374-d580e73d430f"
      },
      "execution_count": null,
      "outputs": [
        {
          "output_type": "execute_result",
          "data": {
            "text/plain": [
              "8.0"
            ]
          },
          "metadata": {},
          "execution_count": 7
        }
      ]
    },
    {
      "cell_type": "markdown",
      "source": [
        "**Leitura dinâmica** com *for*"
      ],
      "metadata": {
        "id": "F_Gcee-FtBAw"
      }
    },
    {
      "cell_type": "code",
      "source": [
        "for elemento in lista:\n",
        "  print(elemento)"
      ],
      "metadata": {
        "colab": {
          "base_uri": "https://localhost:8080/"
        },
        "id": "OjGuwz-5tEHX",
        "outputId": "607df4e0-d551-4c57-cc0d-f487cd665fbc"
      },
      "execution_count": null,
      "outputs": [
        {
          "output_type": "stream",
          "name": "stdout",
          "text": [
            "Fabricio Daniel\n",
            "9.5\n",
            "9.0\n",
            "8.0\n",
            "True\n"
          ]
        }
      ]
    },
    {
      "cell_type": "markdown",
      "source": [
        "## **Atualização da lista**\n",
        "Vamos supor que a nota 8.0 do Fabricio Daniel precisa ser ajustada, pois ganhou 2 pontos em sua última nota por fazer um trabalho de turma.\n",
        "\n",
        "Então, precisamos atualizar o quarto elemento da nossa lista, o qual corresponde ao índice 3.\n",
        "\n",
        "Como fazer essa atualização?"
      ],
      "metadata": {
        "id": "JZYSWB0Qt8bU"
      }
    },
    {
      "cell_type": "code",
      "source": [
        "lista[3]=10\n",
        "\n",
        "lista"
      ],
      "metadata": {
        "colab": {
          "base_uri": "https://localhost:8080/"
        },
        "id": "ExpD9n5ZuBzB",
        "outputId": "2dbb51d7-423f-43cf-ceb9-d935ffe8dc6c"
      },
      "execution_count": null,
      "outputs": [
        {
          "output_type": "execute_result",
          "data": {
            "text/plain": [
              "['Fabricio Daniel', 9.5, 9.0, 10, True]"
            ]
          },
          "metadata": {},
          "execution_count": 9
        }
      ]
    },
    {
      "cell_type": "code",
      "source": [
        "#Calculo da media do aluno\n",
        "\n",
        "media = (lista[1] + lista[2] + lista[3])/3\n",
        "\n",
        "media"
      ],
      "metadata": {
        "colab": {
          "base_uri": "https://localhost:8080/"
        },
        "id": "FNHLpa1muYqF",
        "outputId": "43ef863c-5e8f-43ec-8fe0-a449c986ae2b"
      },
      "execution_count": null,
      "outputs": [
        {
          "output_type": "execute_result",
          "data": {
            "text/plain": [
              "9.5"
            ]
          },
          "metadata": {},
          "execution_count": 10
        }
      ]
    },
    {
      "cell_type": "markdown",
      "source": [
        "**Para saber mais:** String - uma sequência de caracteres"
      ],
      "metadata": {
        "id": "Ui5JrV9cxsEa"
      }
    },
    {
      "cell_type": "code",
      "source": [
        "linguagem = 'Python'\n",
        "\n",
        "print(linguagem[0], linguagem[1], linguagem[2], linguagem[3], linguagem[-2], linguagem[-1])\n",
        "\n",
        "\n",
        "'''\n",
        "Com isso, podemos pensar que a string é uma estrutura de dados da mesma forma que as listas, certo?\n",
        " Na verdade, não. A string é uma sequência de caracteres (letras, números, símbolos, etc.)\n",
        " representada por uma única variável. Já uma estrutura de dados armazena uma coleção de itens\n",
        " (podendo ser de tipos diferentes) em uma única variável.\n",
        " '''"
      ],
      "metadata": {
        "colab": {
          "base_uri": "https://localhost:8080/"
        },
        "id": "fKHCuWyPxuI2",
        "outputId": "623fec2b-49cc-4415-9c1a-6f44a76bbbd3"
      },
      "execution_count": null,
      "outputs": [
        {
          "output_type": "stream",
          "name": "stdout",
          "text": [
            "P y t h o n\n"
          ]
        }
      ]
    },
    {
      "cell_type": "markdown",
      "source": [
        "## Mesmo assim, é possível transformar uma string em uma lista através do método **split()**"
      ],
      "metadata": {
        "id": "lX6sMphdybAt"
      }
    },
    {
      "cell_type": "code",
      "source": [
        "#Como exemplo, vamos transformar a string em lista separando-a cada vez que aparece o ponto de interrogação ?:\n",
        "\n",
        "duvida = 'Quem veio antes? O ovo? Ou foi a serpente?'\n",
        "lista_palavras = duvida.split('?')\n",
        "print(lista_palavras)\n"
      ],
      "metadata": {
        "colab": {
          "base_uri": "https://localhost:8080/"
        },
        "id": "91Tbq2WyyfgK",
        "outputId": "efbfc06f-2af3-4327-cc3b-346ec19acd0c"
      },
      "execution_count": null,
      "outputs": [
        {
          "output_type": "stream",
          "name": "stdout",
          "text": [
            "['Quem veio antes', ' O ovo', ' Ou foi a serpente', '']\n"
          ]
        }
      ]
    },
    {
      "cell_type": "code",
      "source": [
        "'''\n",
        "O delimitador não aparece na separação. Caso ele não seja definido,\n",
        "a string será segregada por todos os espaços em branco no texto.\n",
        "'''\n",
        "\n",
        "duvida = 'Quem veio antes? O ovo? Ou foi a serpente?'\n",
        "lista_palavras = duvida.split()\n",
        "print(lista_palavras)\n"
      ],
      "metadata": {
        "colab": {
          "base_uri": "https://localhost:8080/"
        },
        "id": "Mu4FLStwzC0M",
        "outputId": "ae9911a6-58be-436b-f74e-2a92aef45d03"
      },
      "execution_count": null,
      "outputs": [
        {
          "output_type": "stream",
          "name": "stdout",
          "text": [
            "['Quem', 'veio', 'antes?', 'O', 'ovo?', 'Ou', 'foi', 'a', 'serpente?']\n"
          ]
        }
      ]
    },
    {
      "cell_type": "markdown",
      "source": [
        "##O contrário também acontece, pois podemos transformar uma lista em uma string através do método **join()**\n"
      ],
      "metadata": {
        "id": "j9vQozK4zOf6"
      }
    },
    {
      "cell_type": "code",
      "source": [
        "'''\n",
        "Para usar a função, precisamos definir o caractere unificador que será utilizado para unir os elementos da lista,\n",
        "formando a string. Em seguida, usamos o método join passando a lista como argumento.\n",
        "'''\n",
        "\n",
        "misturas = ['Tintas: vermelho, azul e amarelo',\n",
        "            'Verde: mistura de azul e amarelo',\n",
        "            'Laranja: mistura de vermelho e amarelo',\n",
        "            'Roxo: mistura de vermelho e azul']\n",
        "unificador = '. '\n",
        "string_misturas = unificador.join(misturas)\n",
        "print(string_misturas)\n"
      ],
      "metadata": {
        "colab": {
          "base_uri": "https://localhost:8080/"
        },
        "id": "eeKC0ElZzT54",
        "outputId": "ba8144d3-ce1a-4814-fbd0-c37d6698ee1a"
      },
      "execution_count": null,
      "outputs": [
        {
          "output_type": "stream",
          "name": "stdout",
          "text": [
            "Tintas: vermelho, azul e amarelo. Verde: mistura de azul e amarelo. Laranja: mistura de vermelho e amarelo. Roxo: mistura de vermelho e azul\n"
          ]
        }
      ]
    }
  ]
}