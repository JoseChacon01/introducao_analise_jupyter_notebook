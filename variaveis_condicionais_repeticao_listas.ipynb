{
 "cells": [
  {
   "cell_type": "markdown",
   "id": "6f62dd58-f75e-4dd0-ad23-850a74f7b572",
   "metadata": {},
   "source": [
    "Tipos de dados em Python:\n",
    "-Inteiro\n",
    "-Real\n",
    "-Texto\n",
    "-Booleano"
   ]
  },
  {
   "cell_type": "code",
   "execution_count": 3,
   "id": "06b4e3ce-c318-44b6-849d-b5721538ca36",
   "metadata": {},
   "outputs": [],
   "source": [
    "idade = 30\n",
    "nota = 10.5\n",
    "nome = 'IFRN'\n",
    "valor = True"
   ]
  },
  {
   "cell_type": "markdown",
   "id": "65c584d4-67bb-46a5-9a50-7e92d854a56e",
   "metadata": {},
   "source": [
    "Estruturas Condicionais IF IF...ELSE ELIF"
   ]
  },
  {
   "cell_type": "code",
   "execution_count": null,
   "id": "077cd872-8d30-42a5-94ec-21888d789cbe",
   "metadata": {},
   "outputs": [],
   "source": [
    "valor = 0\n",
    "if valor > 0:\n",
    "    print(\"Valor positivo\")"
   ]
  },
  {
   "cell_type": "code",
   "execution_count": 2,
   "id": "c8541a9e-bf18-4c31-8de4-0ff272b411e5",
   "metadata": {},
   "outputs": [
    {
     "name": "stdout",
     "output_type": "stream",
     "text": [
      "Valor positivo\n"
     ]
    }
   ],
   "source": [
    "valor = 5\n",
    "if valor >= 0:\n",
    "    print(\"Valor positivo\")\n",
    "else:\n",
    "    print(\"Valor negativo\")"
   ]
  },
  {
   "cell_type": "code",
   "execution_count": 4,
   "id": "af29c17a-32c3-4ae2-8cba-50003099bc7d",
   "metadata": {},
   "outputs": [
    {
     "name": "stdout",
     "output_type": "stream",
     "text": [
      "Negativo\n"
     ]
    }
   ],
   "source": [
    "valor = -2\n",
    "if valor > 0:\n",
    "    print(\"Positivo\")\n",
    "elif valor == 0:\n",
    "    print(\"Zero\")\n",
    "else:\n",
    "    print(\"Negativo\")"
   ]
  },
  {
   "cell_type": "markdown",
   "id": "1d025bba-6793-419e-b180-88f00b65375a",
   "metadata": {},
   "source": [
    "Lista de dados (Array)\n",
    "-Usa colchetes para agrupar elementos\n",
    "-Através da lista e possivel salvar vários valores em uma única variável"
   ]
  },
  {
   "cell_type": "code",
   "execution_count": 6,
   "id": "d2470986-fca1-4e37-8ecf-2bce6b8ed042",
   "metadata": {},
   "outputs": [
    {
     "name": "stdout",
     "output_type": "stream",
     "text": [
      "IFRN\n"
     ]
    }
   ],
   "source": [
    "idade = [30, 15, 25]\n",
    "notas = [8.5, 5.6]\n",
    "nomes = [\"IFRN\", \"IFPB\", \"IFSP\"]\n",
    "valores = [True, False, True]\n",
    "diversos = [30, \"IFRN\", 5.8, True]\n",
    "\n",
    "print(diversos[1])"
   ]
  },
  {
   "cell_type": "code",
   "execution_count": 11,
   "id": "6ff8d2f4-4c35-472b-b98a-b35f79fb068c",
   "metadata": {},
   "outputs": [
    {
     "name": "stdout",
     "output_type": "stream",
     "text": [
      "[2, 1]\n",
      "2\n"
     ]
    }
   ],
   "source": [
    "#Temos uma lista dentro da outra:\n",
    "lista_1 = [5, 3, [2,1]]\n",
    "\n",
    "print(lista_1[2])\n",
    "\n",
    "print(lista_1[2][0])"
   ]
  },
  {
   "cell_type": "code",
   "execution_count": 12,
   "id": "1e1fef67-ccc9-4bcb-bfab-f19f93e17360",
   "metadata": {},
   "outputs": [
    {
     "name": "stdout",
     "output_type": "stream",
     "text": [
      "4\n"
     ]
    }
   ],
   "source": [
    "lista_2 = [10, 50, 54, 544]\n",
    "\n",
    "print(len(lista_2))"
   ]
  },
  {
   "cell_type": "markdown",
   "id": "969fff47-c3f8-4caa-84e7-7a52c39f2705",
   "metadata": {},
   "source": [
    "Estrutura de repetição\n",
    "- Se usa for e lista de dados"
   ]
  },
  {
   "cell_type": "code",
   "execution_count": 13,
   "id": "e7b3ad13-c323-4ae0-9f25-d73f169c5d0f",
   "metadata": {},
   "outputs": [
    {
     "name": "stdout",
     "output_type": "stream",
     "text": [
      "1\n",
      "2\n",
      "3\n",
      "4\n",
      "5\n"
     ]
    }
   ],
   "source": [
    "for numero in [1, 2, 3, 4, 5]:\n",
    "    print(numero)"
   ]
  },
  {
   "cell_type": "markdown",
   "id": "8806d236-34ec-4489-8615-e349c176143b",
   "metadata": {},
   "source": [
    "A função \"range\" serve para gerar uma lista de dados"
   ]
  },
  {
   "cell_type": "code",
   "execution_count": 15,
   "id": "0a76c8c7-e89c-414c-97bb-75472074bcc0",
   "metadata": {},
   "outputs": [
    {
     "data": {
      "text/plain": [
       "[0, 1, 2, 3, 4, 5, 6, 7, 8, 9]"
      ]
     },
     "execution_count": 15,
     "metadata": {},
     "output_type": "execute_result"
    }
   ],
   "source": [
    "list(range(10))"
   ]
  },
  {
   "cell_type": "code",
   "execution_count": 16,
   "id": "3b8add45-5b07-4e76-9467-bb097737c26f",
   "metadata": {},
   "outputs": [
    {
     "data": {
      "text/plain": [
       "[1, 2, 3, 4, 5, 6, 7, 8, 9]"
      ]
     },
     "execution_count": 16,
     "metadata": {},
     "output_type": "execute_result"
    }
   ],
   "source": [
    "list(range(1, 10))"
   ]
  },
  {
   "cell_type": "code",
   "execution_count": 18,
   "id": "280c2afe-0844-4836-a4e2-fa23580951fb",
   "metadata": {},
   "outputs": [
    {
     "data": {
      "text/plain": [
       "[1, 3, 5, 7, 9]"
      ]
     },
     "execution_count": 18,
     "metadata": {},
     "output_type": "execute_result"
    }
   ],
   "source": [
    "list(range(1, 10, 2))"
   ]
  },
  {
   "cell_type": "code",
   "execution_count": 19,
   "id": "3417edf3-534b-4007-9434-da728762d0f1",
   "metadata": {},
   "outputs": [
    {
     "name": "stdout",
     "output_type": "stream",
     "text": [
      "1\n",
      "2\n",
      "3\n",
      "4\n",
      "5\n",
      "6\n",
      "7\n",
      "8\n",
      "9\n",
      "10\n"
     ]
    }
   ],
   "source": [
    "for numero in range(1,11):\n",
    "    print(numero)"
   ]
  },
  {
   "cell_type": "code",
   "execution_count": null,
   "id": "fe644d3f-6eb5-4a12-95a9-97aed06e52ff",
   "metadata": {},
   "outputs": [],
   "source": []
  }
 ],
 "metadata": {
  "kernelspec": {
   "display_name": "Python 3 (ipykernel)",
   "language": "python",
   "name": "python3"
  },
  "language_info": {
   "codemirror_mode": {
    "name": "ipython",
    "version": 3
   },
   "file_extension": ".py",
   "mimetype": "text/x-python",
   "name": "python",
   "nbconvert_exporter": "python",
   "pygments_lexer": "ipython3",
   "version": "3.10.4"
  }
 },
 "nbformat": 4,
 "nbformat_minor": 5
}
