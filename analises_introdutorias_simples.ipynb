{
 "cells": [
  {
   "cell_type": "markdown",
   "id": "3b908774",
   "metadata": {},
   "source": [
    "# Atividade - 25/09/23"
   ]
  },
  {
   "cell_type": "markdown",
   "id": "5776e5be",
   "metadata": {},
   "source": [
    "Documentação Numpy: https://numpy.org/doc/stable/\n",
    "\n",
    "Enviar este arquivo preenchido com o nome do aluno para o e-mail: profbrunorespostas1@gmail.com e assunto: AD2301"
   ]
  },
  {
   "cell_type": "code",
   "execution_count": 1,
   "id": "4b829a95",
   "metadata": {},
   "outputs": [
    {
     "name": "stdout",
     "output_type": "stream",
     "text": [
      "José Chacon\n"
     ]
    }
   ],
   "source": [
    "nome = 'José Chacon'\n",
    "print(nome)"
   ]
  },
  {
   "cell_type": "markdown",
   "id": "36dec32b",
   "metadata": {},
   "source": [
    "### Questão 1:\n",
    "Pesquisar na documentação da biblioteca numpy por propriedades e funções disponíveis para manipulação de Array de 1 dimensão (1darray) que não foram vistas em sala de aula. Citar cada uma delas com a explicação em forma de comentário e um exemplo.\n",
    "\n",
    "Arquivo da aula sobre numpy: https://github.com/brunogomesifrn/respostas_ifrn/blob/main/python/Aulas/2023/numpy.ipynb"
   ]
  },
  {
   "cell_type": "markdown",
   "id": "b515d917",
   "metadata": {},
   "source": [
    "#### Propriedades - 1darray"
   ]
  },
  {
   "cell_type": "code",
   "execution_count": null,
   "id": "f738c875-5817-4b19-8114-628b61ea1e86",
   "metadata": {},
   "outputs": [],
   "source": [
    "import numpy as np  #Importando a biblioteca"
   ]
  },
  {
   "cell_type": "code",
   "execution_count": 14,
   "id": "ad48eaa6",
   "metadata": {},
   "outputs": [
    {
     "name": "stdout",
     "output_type": "stream",
     "text": [
      "1\n"
     ]
    }
   ],
   "source": [
    "#Retorna o número de dimensões do array (sempre 1 para arrays unidimensionais).\n",
    " \n",
    "array_dim = np.array([1, 2, 3, 4, 5])\n",
    "print(array_dim.ndim)  \n"
   ]
  },
  {
   "cell_type": "code",
   "execution_count": 15,
   "id": "57047d70",
   "metadata": {},
   "outputs": [
    {
     "name": "stdout",
     "output_type": "stream",
     "text": [
      "[[1 4]\n",
      " [2 5]\n",
      " [3 6]]\n"
     ]
    }
   ],
   "source": [
    "#T (ou transpose()): Retorna a transposição do array, trocando linhas por colunas.\n",
    "\n",
    "array = np.array([[1, 2, 3], [4, 5, 6]])\n",
    "transposta = array.T\n",
    "print(transposta)"
   ]
  },
  {
   "cell_type": "markdown",
   "id": "1dcf6129",
   "metadata": {},
   "source": [
    "#### Funções - 1darray"
   ]
  },
  {
   "cell_type": "code",
   "execution_count": 16,
   "id": "49c18a21",
   "metadata": {},
   "outputs": [
    {
     "name": "stdout",
     "output_type": "stream",
     "text": [
      "15\n"
     ]
    }
   ],
   "source": [
    "#sum(): Calcula a soma dos elementos no array.\n",
    "\n",
    "array_soma = np.array([1, 2, 3, 4, 5])\n",
    "soma = array_soma.sum()\n",
    "print(soma)  "
   ]
  },
  {
   "cell_type": "code",
   "execution_count": 17,
   "id": "a53ccf3c",
   "metadata": {},
   "outputs": [
    {
     "name": "stdout",
     "output_type": "stream",
     "text": [
      "3.0\n"
     ]
    }
   ],
   "source": [
    "#mean(): Calcula a média dos elementos no array.\n",
    "\n",
    "array_m = np.array([1, 2, 3, 4, 5])\n",
    "media = array_m.mean()\n",
    "print(media)\n"
   ]
  },
  {
   "cell_type": "code",
   "execution_count": 18,
   "id": "4111e8dd-2db5-42a0-914d-a1823b0718ce",
   "metadata": {},
   "outputs": [
    {
     "name": "stdout",
     "output_type": "stream",
     "text": [
      "1 5\n"
     ]
    }
   ],
   "source": [
    "#min() e max(): Encontram o valor mínimo e máximo no array, respectivamente.\n",
    "\n",
    "elements = np.array([1, 2, 3, 4, 5])\n",
    "minimo = elements.min()\n",
    "maximo = elements.max()\n",
    "print(minimo, maximo)  "
   ]
  },
  {
   "cell_type": "code",
   "execution_count": 19,
   "id": "9c381a29-f06a-45d9-9353-83cc53e209e1",
   "metadata": {},
   "outputs": [
    {
     "name": "stdout",
     "output_type": "stream",
     "text": [
      "0 2\n"
     ]
    }
   ],
   "source": [
    "# argmax() e argmin(): Encontram os índices do valor máximo e mínimo no array, respectivamente.\n",
    "\n",
    "indices = np.array([5, 2, 1, 4, 3])\n",
    "indice_maximo = indices.argmax()\n",
    "indice_minimo = indices.argmin()\n",
    "print(indice_maximo, indice_minimo)"
   ]
  },
  {
   "cell_type": "code",
   "execution_count": 20,
   "id": "a7da2b92-ae94-4c81-9f9e-e15d060b3008",
   "metadata": {},
   "outputs": [
    {
     "name": "stdout",
     "output_type": "stream",
     "text": [
      "[1 2 3 4 5]\n"
     ]
    }
   ],
   "source": [
    "# sort(): Ordena os elementos no array em ordem crescente.\n",
    "\n",
    "array = np.array([5, 2, 1, 4, 3])\n",
    "array.sort()\n",
    "print(array)"
   ]
  },
  {
   "cell_type": "markdown",
   "id": "4ed71dd7",
   "metadata": {},
   "source": [
    "### Questão 2\n",
    "Crie um exemplo de criação de um array de 2 dimensões (2darray)."
   ]
  },
  {
   "cell_type": "code",
   "execution_count": 21,
   "id": "8e0cc2c9-def7-42a7-8853-ca6dd500e740",
   "metadata": {},
   "outputs": [
    {
     "name": "stdout",
     "output_type": "stream",
     "text": [
      "[[1 2 3]\n",
      " [4 5 6]\n",
      " [7 8 9]]\n"
     ]
    }
   ],
   "source": [
    "\n",
    "matriz = np.array([[1, 2, 3],\n",
    "                   [4, 5, 6],\n",
    "                   [7, 8, 9]])\n",
    "\n",
    "print(matriz)"
   ]
  },
  {
   "cell_type": "markdown",
   "id": "e979093d",
   "metadata": {},
   "source": [
    "### Questão 3\n",
    "Cite funções disponíveis no numpy que criam array de duas dimenões (2darray) já preenchido de forma automática."
   ]
  },
  {
   "cell_type": "code",
   "execution_count": 22,
   "id": "ee11cf0a",
   "metadata": {},
   "outputs": [
    {
     "name": "stdout",
     "output_type": "stream",
     "text": [
      "[[0. 0. 0.]\n",
      " [0. 0. 0.]\n",
      " [0. 0. 0.]]\n"
     ]
    }
   ],
   "source": [
    "\n",
    "array_zeros = np.zeros((3, 3))  # Cria uma matriz 3x3 de zeros.\n",
    "\n",
    "print(array_zeros)"
   ]
  },
  {
   "cell_type": "code",
   "execution_count": 23,
   "id": "38175192",
   "metadata": {},
   "outputs": [
    {
     "name": "stdout",
     "output_type": "stream",
     "text": [
      "[[1. 1. 1. 1.]\n",
      " [1. 1. 1. 1.]]\n"
     ]
    }
   ],
   "source": [
    "\n",
    "array_uns = np.ones((2, 4))  # Cria uma matriz 2x4 de uns.\n",
    "\n",
    "print(array_uns)"
   ]
  },
  {
   "cell_type": "code",
   "execution_count": null,
   "id": "6f58c35a-828e-4423-8c8e-f83992136707",
   "metadata": {},
   "outputs": [],
   "source": []
  }
 ],
 "metadata": {
  "kernelspec": {
   "display_name": "Python 3 (ipykernel)",
   "language": "python",
   "name": "python3"
  },
  "language_info": {
   "codemirror_mode": {
    "name": "ipython",
    "version": 3
   },
   "file_extension": ".py",
   "mimetype": "text/x-python",
   "name": "python",
   "nbconvert_exporter": "python",
   "pygments_lexer": "ipython3",
   "version": "3.10.4"
  }
 },
 "nbformat": 4,
 "nbformat_minor": 5
}
