{
  "nbformat": 4,
  "nbformat_minor": 0,
  "metadata": {
    "colab": {
      "provenance": []
    },
    "kernelspec": {
      "name": "python3",
      "display_name": "Python 3"
    },
    "language_info": {
      "name": "python"
    }
  },
  "cells": [
    {
      "cell_type": "code",
      "execution_count": null,
      "metadata": {
        "colab": {
          "base_uri": "https://localhost:8080/"
        },
        "id": "yH8Gms1MEs-w",
        "outputId": "6a702365-8687-46b3-ec5f-426463a5b930"
      },
      "outputs": [
        {
          "output_type": "stream",
          "name": "stdout",
          "text": [
            "===Informe suas notas e obtenha a media===\n",
            "Digite a primeira nota: 100\n",
            "Digite a segunda nota: 98\n",
            "Digite a terceira nota: 100\n",
            "Sua media foi: 99.33333333333333\n",
            "Aprovado!\n"
          ]
        }
      ],
      "source": [
        "print('===Informe suas notas e obtenha a media===')\n",
        "\n",
        "nota1 = float(input('Digite a primeira nota: '))\n",
        "nota2 = float(input('Digite a segunda nota: '))\n",
        "nota3 = float(input('Digite a terceira nota: '))\n",
        "\n",
        "soma = nota1+nota2+nota3\n",
        "media = soma/3\n",
        "\n",
        "print('Sua media foi: {}' .format(media))\n",
        "\n",
        "if media >= 60:\n",
        "  print('Aprovado!')\n",
        "elif media >= 40 and media <60:\n",
        "    print('Recuperação!')\n",
        "else:\n",
        "  print('Reprovado!')\n"
      ]
    },
    {
      "cell_type": "markdown",
      "source": [
        "**Situação:** A escola nos passou uma lista com nomes de estudantes aprovados por média no semestre. Precisamos verificar se alguns nomes estão nessa lista, pois, aparentemente, alguns nomes que deveriam estar nela, não estão. Sendo assim, vamos confirmar se os dados estão corretos.\n",
        "\n",
        "A seguir, temos a **lista disponibilizada**:"
      ],
      "metadata": {
        "id": "1D5ee1KWMZHY"
      }
    },
    {
      "cell_type": "code",
      "source": [
        "\n",
        "lista = 'José da Silva, Maria Oliveira, Pedro Martins, Ana Souza, Carlos Rodrigues, Juliana Santos, Bruno Gomes, Beatriz Costa, Felipe Almeida, Mariana Fernandes, João Pinto, Luísa Nascimento, Gabriel Souza, Manuela Santos, Thiago Oliveira, Sofia Ferreira, Rafael Albuquerque, Isabella Gomes, Bruno Costa, Maria Martins, Rafaela Souza, Matheus Fernandes, Luísa Almeida, Beatriz Pinto, Mariana Rodrigues, Gabriel Nascimento, João Ferreira, Maria Albuquerque, Felipe Oliveira'\n",
        "lista\n"
      ],
      "metadata": {
        "colab": {
          "base_uri": "https://localhost:8080/",
          "height": 70
        },
        "id": "KaANfu7PM0mx",
        "outputId": "a549656d-db9f-4617-f91a-19cd6eb2aa03"
      },
      "execution_count": null,
      "outputs": [
        {
          "output_type": "execute_result",
          "data": {
            "text/plain": [
              "'José da Silva, Maria Oliveira, Pedro Martins, Ana Souza, Carlos Rodrigues, Juliana Santos, Bruno Gomes, Beatriz Costa, Felipe Almeida, Mariana Fernandes, João Pinto, Luísa Nascimento, Gabriel Souza, Manuela Santos, Thiago Oliveira, Sofia Ferreira, Rafael Albuquerque, Isabella Gomes, Bruno Costa, Maria Martins, Rafaela Souza, Matheus Fernandes, Luísa Almeida, Beatriz Pinto, Mariana Rodrigues, Gabriel Nascimento, João Ferreira, Maria Albuquerque, Felipe Oliveira'"
            ],
            "application/vnd.google.colaboratory.intrinsic+json": {
              "type": "string"
            }
          },
          "metadata": {},
          "execution_count": 14
        }
      ]
    },
    {
      "cell_type": "code",
      "source": [
        "#Nomes que devem ser verificados\n",
        "nome_1 = 'Mariana Rodrigues'\n",
        "nome_2 = 'Marcelo Nogueira'\n"
      ],
      "metadata": {
        "id": "0EoLJjOANB98"
      },
      "execution_count": null,
      "outputs": []
    },
    {
      "cell_type": "code",
      "source": [
        "\n",
        "if nome_1 in lista:\n",
        "  print('{} está na lista' .format(nome_1))\n",
        "else:\n",
        "  print('{} não está na lista' .format(nome_1))\n"
      ],
      "metadata": {
        "colab": {
          "base_uri": "https://localhost:8080/"
        },
        "id": "6agDlOc4SHQB",
        "outputId": "164901c2-1259-41f4-8a62-1b6d5a6318d7"
      },
      "execution_count": null,
      "outputs": [
        {
          "output_type": "stream",
          "name": "stdout",
          "text": [
            "Mariana Rodrigues está na lista\n"
          ]
        }
      ]
    },
    {
      "cell_type": "code",
      "source": [
        "#Utilizando outra forma para verificar o nome_2\n",
        "if nome_2 in lista:\n",
        "  print(f'{nome_2} está na lista')\n",
        "else:\n",
        "  print(f'{nome_2} não está na lista')\n"
      ],
      "metadata": {
        "colab": {
          "base_uri": "https://localhost:8080/"
        },
        "id": "6cF4X17FTWhB",
        "outputId": "f571b848-272d-4229-c991-d65ad9aae2a9"
      },
      "execution_count": null,
      "outputs": [
        {
          "output_type": "stream",
          "name": "stdout",
          "text": [
            "Marcelo Nogueira não está na lista\n"
          ]
        }
      ]
    }
  ]
}