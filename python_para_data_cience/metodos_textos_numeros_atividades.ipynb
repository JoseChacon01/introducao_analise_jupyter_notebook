{
  "nbformat": 4,
  "nbformat_minor": 0,
  "metadata": {
    "colab": {
      "provenance": []
    },
    "kernelspec": {
      "name": "python3",
      "display_name": "Python 3"
    },
    "language_info": {
      "name": "python"
    }
  },
  "cells": [
    {
      "cell_type": "code",
      "execution_count": null,
      "metadata": {
        "id": "KkMBFNhvZ-25"
      },
      "outputs": [],
      "source": []
    },
    {
      "cell_type": "markdown",
      "source": [
        "Situação: Recebemos uma variável com o nome de uma professora da escola para inserirmos no cadastro. No entanto, precisamos tratar esse texto antes de inserirmos no sistema."
      ],
      "metadata": {
        "id": "hB757O2TadWr"
      }
    },
    {
      "cell_type": "code",
      "source": [
        "texto = '  Geovana Alessandra dias Sanyos '\n"
      ],
      "metadata": {
        "id": "J5rD1wh_ae8j"
      },
      "execution_count": null,
      "outputs": []
    },
    {
      "cell_type": "markdown",
      "source": [
        "Temos o texto, que se refere ao nome da professora e a string, com dois espaços antes do nome dela e outro espaço após. Vamos rodar essa célula e objetivo é que, ao final, o nome esteja da seguinte forma:\n",
        "'GEOVANA ALESSANDRA DIAS SANTOS'"
      ],
      "metadata": {
        "id": "V8muJmNGatYm"
      }
    },
    {
      "cell_type": "code",
      "source": [
        "#converte para letras maiúsculas\n",
        "texto.upper()"
      ],
      "metadata": {
        "colab": {
          "base_uri": "https://localhost:8080/",
          "height": 35
        },
        "id": "uxAxqjuWaxTB",
        "outputId": "c038ac68-cbb7-4ec0-e27b-31d5aa6c13ac"
      },
      "execution_count": null,
      "outputs": [
        {
          "output_type": "execute_result",
          "data": {
            "text/plain": [
              "'  GEOVANA ALESSANDRA DIAS SANYOS '"
            ],
            "application/vnd.google.colaboratory.intrinsic+json": {
              "type": "string"
            }
          },
          "metadata": {},
          "execution_count": 2
        }
      ]
    },
    {
      "cell_type": "code",
      "source": [
        "#converte para letras minúsculas\n",
        "texto.lower()\n"
      ],
      "metadata": {
        "colab": {
          "base_uri": "https://localhost:8080/",
          "height": 35
        },
        "id": "byWj1QCSbN3S",
        "outputId": "00eb19a8-9d53-40f7-a0f0-6d911607a579"
      },
      "execution_count": null,
      "outputs": [
        {
          "output_type": "execute_result",
          "data": {
            "text/plain": [
              "'  geovana alessandra dias sanyos '"
            ],
            "application/vnd.google.colaboratory.intrinsic+json": {
              "type": "string"
            }
          },
          "metadata": {},
          "execution_count": 3
        }
      ]
    },
    {
      "cell_type": "code",
      "source": [
        "#Remove os espaços em branco no inicio e no fim da string\n",
        "texto.strip()"
      ],
      "metadata": {
        "colab": {
          "base_uri": "https://localhost:8080/",
          "height": 35
        },
        "id": "Sb_s813NbbQd",
        "outputId": "5dcfe7e6-abbc-4cd0-8095-2efcb3b73289"
      },
      "execution_count": null,
      "outputs": [
        {
          "output_type": "execute_result",
          "data": {
            "text/plain": [
              "'Geovana Alessandra dias Sanyos'"
            ],
            "application/vnd.google.colaboratory.intrinsic+json": {
              "type": "string"
            }
          },
          "metadata": {},
          "execution_count": 4
        }
      ]
    },
    {
      "cell_type": "code",
      "source": [
        "#método que substitui uma ocorrencia antiga na string por uma nova, nesse caso, substituiu y por t\n",
        "texto.replace('y','t')\n"
      ],
      "metadata": {
        "colab": {
          "base_uri": "https://localhost:8080/",
          "height": 35
        },
        "id": "7BM0HDX3b_zz",
        "outputId": "161975dd-da57-4e0d-e375-7d5bfb5beaa5"
      },
      "execution_count": null,
      "outputs": [
        {
          "output_type": "execute_result",
          "data": {
            "text/plain": [
              "'  Geovana Alessandra dias Santos '"
            ],
            "application/vnd.google.colaboratory.intrinsic+json": {
              "type": "string"
            }
          },
          "metadata": {},
          "execution_count": 5
        }
      ]
    },
    {
      "cell_type": "code",
      "source": [
        "texto = texto.strip().replace('Y','T').upper()\n",
        "\n",
        "texto"
      ],
      "metadata": {
        "colab": {
          "base_uri": "https://localhost:8080/",
          "height": 35
        },
        "id": "U96jq0YYhu0o",
        "outputId": "080d15a2-8486-4e1b-ab2d-a581dd44eaea"
      },
      "execution_count": null,
      "outputs": [
        {
          "output_type": "execute_result",
          "data": {
            "text/plain": [
              "'GEOVANA ALESSANDRA DIAS SANTOS'"
            ],
            "application/vnd.google.colaboratory.intrinsic+json": {
              "type": "string"
            }
          },
          "metadata": {},
          "execution_count": 9
        }
      ]
    },
    {
      "cell_type": "code",
      "source": [
        "#Coletar valores com input()\n",
        "\n",
        "nome = input('Digite seu nome: ')"
      ],
      "metadata": {
        "colab": {
          "base_uri": "https://localhost:8080/"
        },
        "id": "6GYdxn8giYOd",
        "outputId": "9e51f92a-6ec8-4a77-ea3d-0fbb8601d52a"
      },
      "execution_count": null,
      "outputs": [
        {
          "name": "stdout",
          "output_type": "stream",
          "text": [
            "Digite seu nome: Chacon\n"
          ]
        }
      ]
    },
    {
      "cell_type": "code",
      "source": [
        "nome"
      ],
      "metadata": {
        "colab": {
          "base_uri": "https://localhost:8080/",
          "height": 35
        },
        "id": "GDIfEJEvmt6A",
        "outputId": "22414735-44d1-4389-ceca-b8695c48fb4c"
      },
      "execution_count": null,
      "outputs": [
        {
          "output_type": "execute_result",
          "data": {
            "text/plain": [
              "'Chacon'"
            ],
            "application/vnd.google.colaboratory.intrinsic+json": {
              "type": "string"
            }
          },
          "metadata": {},
          "execution_count": 11
        }
      ]
    },
    {
      "cell_type": "markdown",
      "source": [
        "A função input() sempre retorna um valor textual. Se quisermos, por exemplo, coletar um número, temos que fazer a conversão dessa saída para outro tipo de valor.\n",
        "\n",
        "Existem quatro tipos básicos de dados que já conhecemos: inteiro, float, string e booleano. Cada uma dessas classes têm uma função de conversão. Vamos conferir as funções de conversão de valores:\n",
        "\n",
        "Inteiros: int(dado_para_conversao)\n",
        "Float: float(dado_para_conversao)\n",
        "String: str(dado_para_conversao)\n",
        "Booleano: bool(dado_para_conversao)"
      ],
      "metadata": {
        "id": "5vvWZEJUqKuQ"
      }
    },
    {
      "cell_type": "code",
      "source": [
        "ano_entrada = input('Escreva o ano de ingresso do(a) estudante:  ')\n"
      ],
      "metadata": {
        "colab": {
          "base_uri": "https://localhost:8080/"
        },
        "id": "sKYAlbV6qVXE",
        "outputId": "f95aae0b-f97f-4164-f677-7cd09c1ef3aa"
      },
      "execution_count": null,
      "outputs": [
        {
          "name": "stdout",
          "output_type": "stream",
          "text": [
            "Escreva o ano de ingresso do(a) estudante:  2023\n"
          ]
        }
      ]
    },
    {
      "cell_type": "code",
      "source": [
        "type(ano_entrada)\n"
      ],
      "metadata": {
        "colab": {
          "base_uri": "https://localhost:8080/"
        },
        "id": "zVD0M8nWqbyN",
        "outputId": "ae53a8fd-a60f-4351-bc28-58a001b50844"
      },
      "execution_count": null,
      "outputs": [
        {
          "output_type": "execute_result",
          "data": {
            "text/plain": [
              "str"
            ]
          },
          "metadata": {},
          "execution_count": 13
        }
      ]
    },
    {
      "cell_type": "code",
      "source": [
        "#Convertendo a saída do valor de input() para um tipo inteiro.\n",
        "ano_entrada = int(input('Escreva o ano de ingresso do(a) estudante:  '))\n"
      ],
      "metadata": {
        "colab": {
          "base_uri": "https://localhost:8080/"
        },
        "id": "ukPA7fDHqdDc",
        "outputId": "b3979d2a-d574-471e-d7aa-5152d3b999c8"
      },
      "execution_count": null,
      "outputs": [
        {
          "name": "stdout",
          "output_type": "stream",
          "text": [
            "Escreva o ano de ingresso do(a) estudante:  2023\n"
          ]
        }
      ]
    },
    {
      "cell_type": "code",
      "source": [
        "type(ano_entrada)"
      ],
      "metadata": {
        "colab": {
          "base_uri": "https://localhost:8080/"
        },
        "id": "LViHJ7v4q3Z4",
        "outputId": "064ebbc8-212d-49cb-8a02-4aef699ba0bc"
      },
      "execution_count": null,
      "outputs": [
        {
          "output_type": "execute_result",
          "data": {
            "text/plain": [
              "int"
            ]
          },
          "metadata": {},
          "execution_count": 15
        }
      ]
    },
    {
      "cell_type": "code",
      "source": [
        "#Formatar o texto, ou seja, inserir valores de variáveis.\n",
        "nota_entrada = float(input('Digite a nota do teste de ingresso: '))\n",
        "print(f'Ano de entrada {ano_entrada} - nota do teste de ingresso {nota_entrada}')\n",
        "\n"
      ],
      "metadata": {
        "colab": {
          "base_uri": "https://localhost:8080/"
        },
        "id": "-rLy4KpovLtT",
        "outputId": "37b65f29-42a6-4ef9-d8a4-706361e198e2"
      },
      "execution_count": null,
      "outputs": [
        {
          "output_type": "stream",
          "name": "stdout",
          "text": [
            "Digite a nota do teste de ingresso: 90.05\n",
            "Ano de entrada 2023 - nota do teste de ingresso 90.05\n"
          ]
        }
      ]
    },
    {
      "cell_type": "markdown",
      "source": [
        "existem outras formatações, como o uso do operador de formatação de string ou da função .format().\n",
        "\n",
        "====> Esse operador de formatação permite a inserção de variáveis em pontos específicos na string com o operador %. Esse operador funciona como um marcador, informando onde o valor da variável vai ser exposto na string.\n",
        "O % precisa ser acompanhado de uma palavra-chave para cada tipo de variável que se deseja adicionar. Seguindo a tabela abaixo:\n",
        "\n",
        "string = %s\n",
        "inteiro = %d\n",
        "float = %f\n",
        "caractere = %c\n",
        "\n",
        "\n",
        "=====>Desse modo, para inserirmos uma variável, podemos adicionar o operador pela string no ponto desejado. Após o fim da string, adicionamos novamente o %, mas agora especificando a variável entre parênteses. Podemos observar essa estrutura no exemplo abaixo:"
      ],
      "metadata": {
        "id": "4U3QXxjW_lLt"
      }
    },
    {
      "cell_type": "code",
      "source": [
        "nome_aluno = 'Fabricio Daniel'\n",
        "\n",
        "print('Nome do aluno: %s' %(nome_aluno))\n"
      ],
      "metadata": {
        "colab": {
          "base_uri": "https://localhost:8080/"
        },
        "id": "usO_HdtUAALC",
        "outputId": "5d418f3c-f521-49c5-e2c5-047e6a84997f"
      },
      "execution_count": null,
      "outputs": [
        {
          "output_type": "stream",
          "name": "stdout",
          "text": [
            "Nome do aluno: Fabricio Daniel\n"
          ]
        }
      ]
    },
    {
      "cell_type": "code",
      "source": [
        "nome_aluno = 'Fabricio Daniel'\n",
        "idade_aluno = 15\n",
        "media_aluno = 8.45\n",
        "\n",
        "print('Nome do aluno é %s, ele tem %d anos e sua média é %f.' %(nome_aluno, idade_aluno, media_aluno))\n"
      ],
      "metadata": {
        "colab": {
          "base_uri": "https://localhost:8080/"
        },
        "id": "HNupLDu5AFDH",
        "outputId": "d206c1d6-eaef-45fe-e5bf-fafc9e932d8f"
      },
      "execution_count": null,
      "outputs": [
        {
          "output_type": "stream",
          "name": "stdout",
          "text": [
            "Nome do aluno é Fabricio Daniel, ele tem 15 anos e sua média é 8.450000.\n"
          ]
        }
      ]
    },
    {
      "cell_type": "code",
      "source": [
        "'''\n",
        "Quando trabalhamos com pontos flutuantes (float), podemos determinar a quantidade de casas decimais após a vírgula usando a sintaxe %.xf,\n",
        "na qual x é o número de casas desejadas. Utilizando as mesmas variáveis do exemplo anterior, o código com %.xf fica da seguinte maneira:\n",
        "'''\n",
        "\n",
        "print('Nome do aluno é %s, ele tem %d anos e sua média é %.2f.' %(nome_aluno, idade_aluno, media_aluno))\n"
      ],
      "metadata": {
        "colab": {
          "base_uri": "https://localhost:8080/"
        },
        "id": "4539l-2CANYo",
        "outputId": "42e1a9e1-28fd-4293-cf20-9af2bb4a0c05"
      },
      "execution_count": null,
      "outputs": [
        {
          "output_type": "stream",
          "name": "stdout",
          "text": [
            "Nome do aluno é Fabricio Daniel, ele tem 15 anos e sua média é 8.45.\n"
          ]
        }
      ]
    },
    {
      "cell_type": "markdown",
      "source": [
        "Uma observação: os operadores de formatação de strings com % não funcionam diretamente com valores booleanos. Uma maneira de lidar com isso é convertendo o valor booleano para uma string antes de usá-lo na formatação com a função str(). Por exemplo:"
      ],
      "metadata": {
        "id": "5eitoUG_AkZ-"
      }
    },
    {
      "cell_type": "code",
      "source": [
        "x = True\n",
        "print(\"Valor de x: %s\" % str(x))\n"
      ],
      "metadata": {
        "colab": {
          "base_uri": "https://localhost:8080/"
        },
        "id": "g2i9gWzUAlIS",
        "outputId": "346df31c-cc5e-4fbc-96e3-e5e69807212d"
      },
      "execution_count": null,
      "outputs": [
        {
          "output_type": "stream",
          "name": "stdout",
          "text": [
            "Valor de x: True\n"
          ]
        }
      ]
    },
    {
      "cell_type": "markdown",
      "source": [
        "É possível também usar o método format() para fazer a formatação de strings. Ele é mais flexível e permite passar as variáveis diretamente dentro da string, sem a necessidade dos operadores %. Seus marcadores são apenas as {}. Exemplo:"
      ],
      "metadata": {
        "id": "PmZveiFBAyiF"
      }
    },
    {
      "cell_type": "code",
      "source": [
        "nome_aluno = 'Fabricio Daniel'\n",
        "\n",
        "print('Nome do aluno: {}'.format(nome_aluno))\n"
      ],
      "metadata": {
        "colab": {
          "base_uri": "https://localhost:8080/"
        },
        "id": "xKF0uWUjAzYH",
        "outputId": "01367830-1951-499e-f6b5-e19c6c654992"
      },
      "execution_count": null,
      "outputs": [
        {
          "output_type": "stream",
          "name": "stdout",
          "text": [
            "Nome do aluno: Fabricio Daniel\n"
          ]
        }
      ]
    },
    {
      "cell_type": "code",
      "source": [
        "#Do mesmo modo que é feito com o operador, conseguimos aplicar com mais variáveis:\n",
        "nome_aluno = 'Fabricio Daniel'\n",
        "idade_aluno = 15\n",
        "media_aluno = 8.45\n",
        "\n",
        "print('Nome do aluno é {}, ele tem {} anos e sua média é {}.' .format(nome_aluno, idade_aluno, media_aluno))\n"
      ],
      "metadata": {
        "colab": {
          "base_uri": "https://localhost:8080/"
        },
        "id": "SzFcUZY_BN1l",
        "outputId": "b4f57382-1dae-4478-c71c-5a9c9f26e80d"
      },
      "execution_count": null,
      "outputs": [
        {
          "output_type": "stream",
          "name": "stdout",
          "text": [
            "Nome do aluno é Fabricio Daniel, ele tem 15 anos e sua média é 8.45.\n"
          ]
        }
      ]
    },
    {
      "cell_type": "code",
      "source": [
        "#\\n é o caractere de nova linha e é usado para pular uma linha no texto (quebra de linha). Exemplo:\n",
        "print(\"Estudar é um esforço constante,\\nÉ como cultivar uma planta,\\nPrecisamos de dedicação e paciência,\\nPara ver o fruto amadurecer.\")\n"
      ],
      "metadata": {
        "colab": {
          "base_uri": "https://localhost:8080/"
        },
        "id": "W43ADnAoB9iB",
        "outputId": "ee30f612-a91c-45d6-b193-10479efe310f"
      },
      "execution_count": null,
      "outputs": [
        {
          "output_type": "stream",
          "name": "stdout",
          "text": [
            "Estudar é um esforço constante,\n",
            "É como cultivar uma planta,\n",
            "Precisamos de dedicação e paciência,\n",
            "Para ver o fruto amadurecer.\n"
          ]
        }
      ]
    },
    {
      "cell_type": "code",
      "source": [
        "#\\t é o caractere de tabulação usado para adicionar um espaço de tabulação no texto. Exemplo\n",
        "print('Quantidade\\tQualidade\\n5 amostras\\tAlta\\n3 amostras\\tBaixa')\n"
      ],
      "metadata": {
        "colab": {
          "base_uri": "https://localhost:8080/"
        },
        "id": "5XPgG7EGB_0V",
        "outputId": "78dde472-cf5b-429e-d1a8-ff7523a5f744"
      },
      "execution_count": null,
      "outputs": [
        {
          "output_type": "stream",
          "name": "stdout",
          "text": [
            "Quantidade\tQualidade\n",
            "5 amostras\tAlta\n",
            "3 amostras\tBaixa\n"
          ]
        }
      ]
    },
    {
      "cell_type": "code",
      "source": [
        "'''\n",
        "\\\\ é usado para imprimir uma única barra invertida. Caso não seja usada a dupla barra invertida,\n",
        "o código poderá resultar em erro ou em um resultado inesperado, pois o Python considera a \\\n",
        "um chamado para um caractere especial. Usamos esta sintaxe para garantir que não ocorram erros. Exemplo:\n",
        "'''\n",
        "\n",
        "print(\"Caminho do arquivo: C:\\\\arquivos\\\\documento.csv\")\n"
      ],
      "metadata": {
        "colab": {
          "base_uri": "https://localhost:8080/"
        },
        "id": "TZ4Y5ZpaCMyD",
        "outputId": "84730eab-0d94-4823-ef1f-f226848dfac9"
      },
      "execution_count": null,
      "outputs": [
        {
          "output_type": "stream",
          "name": "stdout",
          "text": [
            "Caminho do arquivo: C:\\arquivos\\documento.csv\n"
          ]
        }
      ]
    },
    {
      "cell_type": "code",
      "source": [
        "'''\n",
        "\\\" é usado para imprimir aspas duplas quando estamos trabalhando com uma string criada a partir de aspas duplas \".\n",
        " Porém, isso não é necessário caso seja uma string criada por aspas simples '. Como exemplo, temos:\n",
        " '''\n",
        "print(\"Ouvi uma vez \\\"Os frutos do conhecimento são os mais doces e duradouros de todos.\\\"\")\n"
      ],
      "metadata": {
        "colab": {
          "base_uri": "https://localhost:8080/"
        },
        "id": "Vwc_-odYCuwj",
        "outputId": "ea492065-0bf8-4832-e0ad-2b27ea3f32ab"
      },
      "execution_count": null,
      "outputs": [
        {
          "output_type": "stream",
          "name": "stdout",
          "text": [
            "Ouvi uma vez \"Os frutos do conhecimento são os mais doces e duradouros de todos.\"\n"
          ]
        }
      ]
    },
    {
      "cell_type": "code",
      "source": [
        "print('Ouvi uma vez \"Os frutos do conhecimento são os mais doces e duradouros de todos.\"')"
      ],
      "metadata": {
        "colab": {
          "base_uri": "https://localhost:8080/"
        },
        "id": "024Aje6NDjbx",
        "outputId": "96a8fa6c-95b4-45cf-ed6b-ca0387cf3787"
      },
      "execution_count": null,
      "outputs": [
        {
          "output_type": "stream",
          "name": "stdout",
          "text": [
            "Ouvi uma vez \"Os frutos do conhecimento são os mais doces e duradouros de todos.\"\n"
          ]
        }
      ]
    },
    {
      "cell_type": "markdown",
      "source": [
        "===ATIVIDADE====\n",
        "\n",
        "**Coleta e amostragem de dados**\n",
        "\n",
        "1.   Crie um programa que solicite à pessoa usuária digitar seu nome, e imprima “Olá, [nome]!”.\n",
        "2.   Crie um programa que solicite à pessoa usuária digitar seu nome e idade, e imprima “Olá, [nome], você tem [idade] anos.”.\n",
        "3.  Crie um programa que solicite à pessoa usuária digitar seu nome, idade e altura em metros, e imprima “Olá, [nome], você tem [idade] anos e mede [altura] metros!”.\n"
      ],
      "metadata": {
        "id": "LTNWgdiRf4m0"
      }
    },
    {
      "cell_type": "code",
      "source": [
        "#1\n",
        "nome = input (\"Digite seu nome: \")\n",
        "\n",
        "print ('Olá,{} ' .format(nome))"
      ],
      "metadata": {
        "colab": {
          "base_uri": "https://localhost:8080/"
        },
        "id": "ZNPgrKUbgatJ",
        "outputId": "a89738d4-6f4a-462f-cb26-422b5a816a59"
      },
      "execution_count": null,
      "outputs": [
        {
          "output_type": "stream",
          "name": "stdout",
          "text": [
            "Digite seu nome: Chacon\n",
            "Olá,Chacon \n"
          ]
        }
      ]
    },
    {
      "cell_type": "code",
      "source": [
        "#2\n",
        "nome_usuario = input(\"Seu nome: \")\n",
        "idade_usuario = input(\"Sua idade: \")\n",
        "\n",
        "print ('Olá, {}, você tem {} anos' .format(nome_usuario, idade_usuario))"
      ],
      "metadata": {
        "colab": {
          "base_uri": "https://localhost:8080/"
        },
        "id": "iWIB4o5INbjt",
        "outputId": "1ae3084b-cbd1-4a87-ed85-32731fe13f4d"
      },
      "execution_count": null,
      "outputs": [
        {
          "output_type": "stream",
          "name": "stdout",
          "text": [
            "Seu nome: José\n",
            "Sua idade: 23\n",
            "Olá, José, você tem 23 anos\n"
          ]
        }
      ]
    },
    {
      "cell_type": "code",
      "source": [
        "#3\n",
        "seu_nome = input('Seu nome: ')\n",
        "sua_idade = int(input('Idade: '))\n",
        "altura_metros = float(input('Altura: '))\n",
        "\n",
        "print('Olá, {}, você tem {} anos e mede {} metros!' .format(seu_nome, sua_idade, altura_metros))"
      ],
      "metadata": {
        "colab": {
          "base_uri": "https://localhost:8080/"
        },
        "id": "xyFRYiCcPF0i",
        "outputId": "55848f9d-0de3-4af1-db87-5d5c49a2a591"
      },
      "execution_count": null,
      "outputs": [
        {
          "output_type": "stream",
          "name": "stdout",
          "text": [
            "Seu nome: jose\n",
            "Idade: 23\n",
            "Altura: 1.71\n",
            "Olá, jose, você tem 23 anos e mede 1.71 metros!\n"
          ]
        }
      ]
    },
    {
      "cell_type": "markdown",
      "source": [
        "===ATIVIDADE===\n",
        "\n",
        "**Calculadora com operadores**\n",
        "\n",
        "\n",
        "1.   Crie um programa que solicite dois valores numéricos à pessoa usuária e imprima a soma dos dois valores.\n",
        "2.   Crie um programa que solicite três valores numéricos à pessoa usuária e imprima a soma dos três valores.\n",
        "3.   Crie um programa que solicite dois valores numéricos à pessoa usuária e imprima a subtração do primeiro pelo o segundo valor.\n",
        "4.   Crie um programa que solicite dois valores numéricos à pessoa usuária e imprima a multiplicação dos dois valores.\n",
        "5.   Crie um programa que solicite dois valores numéricos, um numerador e um denominador, e realize a divisão entre os dois valores. Deixe claro que o valor do denominador não pode ser 0."
      ],
      "metadata": {
        "id": "QIb2FQS8QVx3"
      }
    },
    {
      "cell_type": "code",
      "source": [
        "#1\n",
        "nota1 = float(input('nota1: '))\n",
        "nota2 = float(input('nota2: '))\n",
        "\n",
        "soma= nota1+nota2\n",
        "\n",
        "print('soma = {}' .format(soma))"
      ],
      "metadata": {
        "colab": {
          "base_uri": "https://localhost:8080/"
        },
        "id": "TpDtzB40VJm1",
        "outputId": "e973a65d-2fc6-4df9-d7a7-a03e193198d6"
      },
      "execution_count": null,
      "outputs": [
        {
          "output_type": "stream",
          "name": "stdout",
          "text": [
            "nota1: 22.5\n",
            "nota2: 20\n",
            "soma = 42.5\n"
          ]
        }
      ]
    },
    {
      "cell_type": "code",
      "source": [
        "#2\n",
        "nota1 = float(input('nota1: '))\n",
        "nota2 = float(input('nota2: '))\n",
        "nota3 = float(input('nota3: '))\n",
        "\n",
        "soma= nota1+nota2+nota3\n",
        "\n",
        "print('soma = {}' .format(soma))"
      ],
      "metadata": {
        "colab": {
          "base_uri": "https://localhost:8080/"
        },
        "id": "B6FWT-0JVoKe",
        "outputId": "e621fef3-c110-4f18-f9da-db0f41e7f5a1"
      },
      "execution_count": null,
      "outputs": [
        {
          "output_type": "stream",
          "name": "stdout",
          "text": [
            "nota1: 100\n",
            "nota2: 50\n",
            "nota3: 25\n",
            "soma = 175.0\n"
          ]
        }
      ]
    },
    {
      "cell_type": "code",
      "source": [
        "#3\n",
        "nota1 = float(input('nota1: '))\n",
        "nota2 = float(input('nota2: '))\n",
        "\n",
        "sub= nota1-nota2\n",
        "\n",
        "print('Subtração = {}' .format(sub))"
      ],
      "metadata": {
        "colab": {
          "base_uri": "https://localhost:8080/"
        },
        "id": "qucnUxkIWZf_",
        "outputId": "a97b4330-b963-4c35-a472-9d15ef81ccd0"
      },
      "execution_count": null,
      "outputs": [
        {
          "output_type": "stream",
          "name": "stdout",
          "text": [
            "nota1: 400\n",
            "nota2: 500\n",
            "Subtração = -100.0\n"
          ]
        }
      ]
    },
    {
      "cell_type": "code",
      "source": [
        "#4\n",
        "nota1 = float(input('nota1: '))\n",
        "nota2 = float(input('nota2: '))\n",
        "\n",
        "mult= nota1*nota2\n",
        "\n",
        "print('multiplicação = {}' .format(mult))"
      ],
      "metadata": {
        "colab": {
          "base_uri": "https://localhost:8080/"
        },
        "id": "qXd-8RQ9V9Re",
        "outputId": "49962584-9e45-4921-e16d-8284c512520f"
      },
      "execution_count": null,
      "outputs": [
        {
          "output_type": "stream",
          "name": "stdout",
          "text": [
            "nota1: 5\n",
            "nota2: 4\n",
            "multiplicação = 20.0\n"
          ]
        }
      ]
    },
    {
      "cell_type": "code",
      "source": [
        "#5\n",
        "print('Informe 2 valores para realizar uma divisão (um numerador e um denominador), lembrando que  o valor do denominador não pode ser 0.')\n",
        "\n",
        "numerador = float(input('Informe o numerador: '))\n",
        "denominador = float(input('Informe o denominador: '))\n",
        "\n",
        "divisao = numerador / denominador\n",
        "\n",
        "print('divisão = {}' .format(divisao))"
      ],
      "metadata": {
        "colab": {
          "base_uri": "https://localhost:8080/"
        },
        "id": "5lSRStBOWTEf",
        "outputId": "3533c3f9-2c89-4dc6-d1b3-22a9f452f2b4"
      },
      "execution_count": null,
      "outputs": [
        {
          "output_type": "stream",
          "name": "stdout",
          "text": [
            "Informe 2 valores para realizar uma divisão (um numerador e um denominador), lembrando que  o valor do denominador não pode ser 0.\n",
            "Informe o numerador: 20\n",
            "Informe o denominador: 3\n",
            "divisão = 6.666666666666667\n"
          ]
        }
      ]
    },
    {
      "cell_type": "markdown",
      "source": [
        "===ATIVIDADE===\n",
        "\n",
        "**Cont. Calculadora com operadores**\n",
        "\n",
        "\n",
        "\n",
        "6.   Crie um programa que solicite dois valores numéricos, um operador e uma potência, e realize a exponenciação entre esses dois valores.\n",
        "7.   Crie um programa que solicite dois valores numéricos, um numerador e um denominador e realize a divisão inteira entre os dois valores. Deixe claro que o valor do denominador não pode ser 0.\n",
        "8.   Crie um programa que solicite dois valores numéricos, um numerador e um denominador, e retorne o resto da divisão entre os dois valores. Deixe claro que o valor do denominador não pode ser 0.\n",
        "9.   Crie um código que solicita 3 notas de um estudante e imprima a média das notas.\n",
        "10.  Crie um código que calcule e imprima a média ponderada dos números 5, 12, 20 e 15 com pesos respectivamente iguais a 1, 2, 3 e 4.\n",
        "\n",
        "\n",
        "\n",
        "\n",
        "\n"
      ],
      "metadata": {
        "id": "KHUHpQlvYi8T"
      }
    },
    {
      "cell_type": "code",
      "source": [
        "#6\n",
        "operador = float(input('Informe o operador: '))\n",
        "potencia = float(input('Informe a potência: '))\n",
        "\n",
        "expoenciacao = operador ** potencia\n",
        "\n",
        "print('expoenciação = {}' .format(expoenciacao))"
      ],
      "metadata": {
        "colab": {
          "base_uri": "https://localhost:8080/"
        },
        "id": "sbJIUlCOba_a",
        "outputId": "aece1204-d773-4618-b656-098ff358f404"
      },
      "execution_count": null,
      "outputs": [
        {
          "output_type": "stream",
          "name": "stdout",
          "text": [
            "Informe o operador: 3\n",
            "Informe a potência: 3\n",
            "expoenciação = 27.0\n"
          ]
        }
      ]
    },
    {
      "cell_type": "code",
      "source": [
        "#7\n",
        "print('Informe 2 valores para realizar uma divisão (um numerador e um denominador), lembrando que  o valor do denominador não pode ser 0.')\n",
        "\n",
        "numerador = int(input('Informe o numerador: '))\n",
        "denominador = int(input('Informe o denominador: '))\n",
        "\n",
        "divisao = numerador / denominador\n",
        "\n",
        "print('divisão = {}' .format(divisao))\n",
        "\n",
        "type(numerador)\n"
      ],
      "metadata": {
        "colab": {
          "base_uri": "https://localhost:8080/"
        },
        "id": "iYlrnOaDmOoi",
        "outputId": "7fa7a061-97e6-496c-e848-772952b83b6a"
      },
      "execution_count": null,
      "outputs": [
        {
          "output_type": "stream",
          "name": "stdout",
          "text": [
            "Informe 2 valores para realizar uma divisão (um numerador e um denominador), lembrando que  o valor do denominador não pode ser 0.\n",
            "Informe o numerador: 20\n",
            "Informe o denominador: 4\n",
            "divisão = 5.0\n"
          ]
        },
        {
          "output_type": "execute_result",
          "data": {
            "text/plain": [
              "int"
            ]
          },
          "metadata": {},
          "execution_count": 33
        }
      ]
    },
    {
      "cell_type": "code",
      "source": [
        "#8\n",
        "print('Informe 2 valores para realizar uma divisão (um numerador e um denominador), lembrando que  o valor do denominador não pode ser 0.')\n",
        "\n",
        "numerador = int(input('Informe o numerador: '))\n",
        "denominador = int(input('Informe o denominador: '))\n",
        "\n",
        "restodivisao = numerador % denominador\n",
        "\n",
        "print('Resto = {}' .format(restodivisao))"
      ],
      "metadata": {
        "colab": {
          "base_uri": "https://localhost:8080/"
        },
        "id": "s5jCFlAapDfs",
        "outputId": "66783b14-4e9d-4d46-da74-db761aafa66a"
      },
      "execution_count": null,
      "outputs": [
        {
          "output_type": "stream",
          "name": "stdout",
          "text": [
            "Informe 2 valores para realizar uma divisão (um numerador e um denominador), lembrando que  o valor do denominador não pode ser 0.\n",
            "Informe o numerador: 103\n",
            "Informe o denominador: 50\n",
            "Resto = 3\n"
          ]
        }
      ]
    },
    {
      "cell_type": "code",
      "source": [
        "#9\n",
        "print('Informe suas três notas para obter a media entre elas.')\n",
        "\n",
        "nota1 = float(input('Nota1: '))\n",
        "nota2 = float(input('Nota2: '))\n",
        "nota3 = float(input('Nota3: '))\n",
        "\n",
        "soma = nota1+nota2+nota3\n",
        "media = soma/3\n",
        "\n",
        "print('Sua media é {}' .format(media))"
      ],
      "metadata": {
        "colab": {
          "base_uri": "https://localhost:8080/"
        },
        "id": "D6gdJmHC5dsA",
        "outputId": "57723dc8-1737-4f89-d784-119bd8a9b7fb"
      },
      "execution_count": null,
      "outputs": [
        {
          "output_type": "stream",
          "name": "stdout",
          "text": [
            "Informe suas três notas para obter a media entre elas.\n",
            "Nota1: 88.5\n",
            "Nota2: 99\n",
            "Nota3: 98.5\n",
            "Sua media é 95.33333333333333\n"
          ]
        }
      ]
    },
    {
      "cell_type": "code",
      "source": [
        "#10\n",
        "\n",
        "#pesos\n",
        "peso1 = 1\n",
        "peso2 = 2\n",
        "peso3 = 3\n",
        "peso4 = 4\n",
        "\n",
        "#notas\n",
        "\n",
        "nota1 = 5\n",
        "nota2 = 12\n",
        "nota3 = 20\n",
        "nota4 = 15\n",
        "\n",
        "\n",
        "calculomMediaPond1 = nota1*peso1 + nota2*peso2 + nota3*peso3 + nota4*peso4\n",
        "\n",
        "resultadoFinal = calculomMediaPond1 / 10\n",
        "\n",
        "print('Resultado da media ponderada é = {} ' .format(resultadoFinal))\n"
      ],
      "metadata": {
        "colab": {
          "base_uri": "https://localhost:8080/"
        },
        "id": "qoUqHA1V6m3i",
        "outputId": "2ac50d79-68c6-49e5-dbc4-c13d46202f49"
      },
      "execution_count": null,
      "outputs": [
        {
          "output_type": "stream",
          "name": "stdout",
          "text": [
            "Resultado da media ponderada é = 14.9 \n"
          ]
        }
      ]
    },
    {
      "cell_type": "markdown",
      "source": [
        "===ATIVIDADE===\n",
        "\n",
        "**Editando textos**\n",
        "\n",
        "\n",
        "\n",
        "1.   Crie uma variável chamada “frase” e atribua a ela uma string de sua escolha. Em seguida, imprima a frase na tela.\n",
        "2.   Crie um código que solicite uma frase e depois imprima a frase na tela.\n",
        "3.   Crie um código que solicite uma frase à pessoa usuária e imprima a mesma frase digitada mas com todas as letras maiúsculas.\n",
        "4.   Crie um código que solicite uma frase à pessoa usuária e imprima a mesma frase digitada mas com todas as letras minúsculas.\n",
        "5.   Crie uma variável chamada “frase” e atribua a ela uma string de sua escolha. Em seguida, imprima a frase sem espaços em branco no início e no fim.\n",
        "\n",
        "\n",
        "\n"
      ],
      "metadata": {
        "id": "aATkZLaSBnAl"
      }
    },
    {
      "cell_type": "code",
      "source": [
        "#1\n",
        "frase = 'Danone Leo vs Soberano'\n",
        "\n",
        "print(frase)"
      ],
      "metadata": {
        "colab": {
          "base_uri": "https://localhost:8080/"
        },
        "id": "ZaAdSGHnB_8j",
        "outputId": "e911fd13-2a77-46e6-8afa-bc67b1b53487"
      },
      "execution_count": null,
      "outputs": [
        {
          "output_type": "stream",
          "name": "stdout",
          "text": [
            "Danone Leo vs Soberano\n"
          ]
        }
      ]
    },
    {
      "cell_type": "code",
      "source": [
        "#2\n",
        "frase = input('Digite uma frase: ')\n",
        "\n",
        "print(frase)"
      ],
      "metadata": {
        "colab": {
          "base_uri": "https://localhost:8080/"
        },
        "id": "VEG6BjP5CpxX",
        "outputId": "f23ec200-77d6-47d4-df2b-40cd71994e0a"
      },
      "execution_count": null,
      "outputs": [
        {
          "output_type": "stream",
          "name": "stdout",
          "text": [
            "Digite uma frase: Olá Mundo\n",
            "Olá Mundo\n"
          ]
        }
      ]
    },
    {
      "cell_type": "code",
      "source": [
        "#3\n",
        "frase = input('Digite uma frase: ')\n",
        "\n",
        "frase.upper()"
      ],
      "metadata": {
        "colab": {
          "base_uri": "https://localhost:8080/",
          "height": 53
        },
        "id": "3CCJs1wRDF71",
        "outputId": "b058111a-18f8-4ad2-94ae-1ce584323e80"
      },
      "execution_count": null,
      "outputs": [
        {
          "name": "stdout",
          "output_type": "stream",
          "text": [
            "Digite uma frase: como vai\n"
          ]
        },
        {
          "output_type": "execute_result",
          "data": {
            "text/plain": [
              "'COMO VAI'"
            ],
            "application/vnd.google.colaboratory.intrinsic+json": {
              "type": "string"
            }
          },
          "metadata": {},
          "execution_count": 9
        }
      ]
    },
    {
      "cell_type": "code",
      "source": [
        "#4\n",
        "frase = input('Digite uma frase: ')\n",
        "\n",
        "frase.lower()"
      ],
      "metadata": {
        "colab": {
          "base_uri": "https://localhost:8080/",
          "height": 53
        },
        "id": "y5VLDRRpDXqg",
        "outputId": "a0d6d967-a17f-4239-aaf6-0db617f4f981"
      },
      "execution_count": null,
      "outputs": [
        {
          "name": "stdout",
          "output_type": "stream",
          "text": [
            "Digite uma frase: Vamos Ou BoRa\n"
          ]
        },
        {
          "output_type": "execute_result",
          "data": {
            "text/plain": [
              "'vamos ou bora'"
            ],
            "application/vnd.google.colaboratory.intrinsic+json": {
              "type": "string"
            }
          },
          "metadata": {},
          "execution_count": 11
        }
      ]
    },
    {
      "cell_type": "code",
      "source": [
        "#5\n",
        "frase = ' Danone Leo vs Soberano '\n",
        "\n",
        "frase.strip()"
      ],
      "metadata": {
        "colab": {
          "base_uri": "https://localhost:8080/",
          "height": 35
        },
        "id": "_KIQrJLxDuOS",
        "outputId": "278f433f-ae6b-4b04-8c80-5639403c6433"
      },
      "execution_count": null,
      "outputs": [
        {
          "output_type": "execute_result",
          "data": {
            "text/plain": [
              "'Danone Leo vs Soberano'"
            ],
            "application/vnd.google.colaboratory.intrinsic+json": {
              "type": "string"
            }
          },
          "metadata": {},
          "execution_count": 14
        }
      ]
    },
    {
      "cell_type": "markdown",
      "source": [
        "===ATIVIDADE===\n",
        "\n",
        "**Cont. Editando Textos**\n",
        "\n",
        "\n",
        "\n",
        "6.   Crie um código que solicite uma frase à pessoa usuária e imprima a mesma frase sem espaços em branco no início e no fim.\n",
        "7.   Crie um código que solicite uma frase à pessoa usuária e imprima a mesma frase sem espaços em branco no início e no fim e em letras minúsculas.\n",
        "8.   Crie um código que solicite uma frase à pessoa usuária e imprima a mesma frase com todas as vogais “e” trocadas pela letra “f”.\n",
        "9.   Crie um código que solicite uma frase à pessoa usuária e imprima a mesma frase com todas as vogais “a” trocadas pela caractere “@”.\n",
        "10.   Crie um código que solicite uma frase à pessoa usuária e imprima a mesma frase com todas as consoantes “s” trocadas pelo caractere “$”.\n",
        "\n"
      ],
      "metadata": {
        "id": "qEq-BBddEHnD"
      }
    },
    {
      "cell_type": "code",
      "source": [
        "#6\n",
        "frase = input('Digite uma frase: ')\n",
        "\n",
        "frase.strip()"
      ],
      "metadata": {
        "colab": {
          "base_uri": "https://localhost:8080/",
          "height": 53
        },
        "id": "4VB2D8diEk19",
        "outputId": "53fb3632-60d1-49d6-8385-8989fc2bc66f"
      },
      "execution_count": null,
      "outputs": [
        {
          "name": "stdout",
          "output_type": "stream",
          "text": [
            "Digite uma frase:     Programação em Python    \n"
          ]
        },
        {
          "output_type": "execute_result",
          "data": {
            "text/plain": [
              "'Programação em Python'"
            ],
            "application/vnd.google.colaboratory.intrinsic+json": {
              "type": "string"
            }
          },
          "metadata": {},
          "execution_count": 17
        }
      ]
    },
    {
      "cell_type": "code",
      "source": [
        "#7\n",
        "frase = input('Digite uma frase: ')\n",
        "\n",
        "frase = frase.strip().lower()\n",
        "\n",
        "frase"
      ],
      "metadata": {
        "colab": {
          "base_uri": "https://localhost:8080/",
          "height": 53
        },
        "id": "bTZHpif5KADu",
        "outputId": "f56e1e89-4b30-4b43-8529-003e55618562"
      },
      "execution_count": null,
      "outputs": [
        {
          "name": "stdout",
          "output_type": "stream",
          "text": [
            "Digite uma frase:     ProgramaçãO em PythOn    \n"
          ]
        },
        {
          "output_type": "execute_result",
          "data": {
            "text/plain": [
              "'programação em python'"
            ],
            "application/vnd.google.colaboratory.intrinsic+json": {
              "type": "string"
            }
          },
          "metadata": {},
          "execution_count": 19
        }
      ]
    },
    {
      "cell_type": "code",
      "source": [
        "#8\n",
        "\n",
        "frase = input('Digite uma frase: ')\n",
        "\n",
        "frase.replace('e', 'f')\n"
      ],
      "metadata": {
        "colab": {
          "base_uri": "https://localhost:8080/",
          "height": 53
        },
        "id": "ryUV298YKqSp",
        "outputId": "50d32ed4-5fdd-4a80-8ce0-d0cba51ff9a2"
      },
      "execution_count": null,
      "outputs": [
        {
          "name": "stdout",
          "output_type": "stream",
          "text": [
            "Digite uma frase: Frase de programação em sistemas\n"
          ]
        },
        {
          "output_type": "execute_result",
          "data": {
            "text/plain": [
              "'Frasf df programação fm sistfmas'"
            ],
            "application/vnd.google.colaboratory.intrinsic+json": {
              "type": "string"
            }
          },
          "metadata": {},
          "execution_count": 20
        }
      ]
    },
    {
      "cell_type": "code",
      "source": [
        "#9\n",
        "\n",
        "frase = input('Digite uma frase: ')\n",
        "\n",
        "frase.replace('a', '@')"
      ],
      "metadata": {
        "colab": {
          "base_uri": "https://localhost:8080/",
          "height": 53
        },
        "id": "scK6gcWILHTX",
        "outputId": "3046eec2-8b52-43f0-d5aa-e09f10db800a"
      },
      "execution_count": null,
      "outputs": [
        {
          "name": "stdout",
          "output_type": "stream",
          "text": [
            "Digite uma frase: frase de efeito\n"
          ]
        },
        {
          "output_type": "execute_result",
          "data": {
            "text/plain": [
              "'fr@se de efeito'"
            ],
            "application/vnd.google.colaboratory.intrinsic+json": {
              "type": "string"
            }
          },
          "metadata": {},
          "execution_count": 21
        }
      ]
    },
    {
      "cell_type": "code",
      "source": [
        "#10\n",
        "\n",
        "frase = input('Digite uma frase: ')\n",
        "\n",
        "frase.replace('s', '$')"
      ],
      "metadata": {
        "colab": {
          "base_uri": "https://localhost:8080/",
          "height": 53
        },
        "id": "_1qOcG1vLTPg",
        "outputId": "c7541c4a-fab9-43f5-f15b-d027e9c464b3"
      },
      "execution_count": null,
      "outputs": [
        {
          "name": "stdout",
          "output_type": "stream",
          "text": [
            "Digite uma frase: frase de testes\n"
          ]
        },
        {
          "output_type": "execute_result",
          "data": {
            "text/plain": [
              "'fra$e de te$te$'"
            ],
            "application/vnd.google.colaboratory.intrinsic+json": {
              "type": "string"
            }
          },
          "metadata": {},
          "execution_count": 22
        }
      ]
    }
  ]
}