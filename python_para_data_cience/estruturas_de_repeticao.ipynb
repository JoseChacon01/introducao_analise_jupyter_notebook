{
  "nbformat": 4,
  "nbformat_minor": 0,
  "metadata": {
    "colab": {
      "provenance": []
    },
    "kernelspec": {
      "name": "python3",
      "display_name": "Python 3"
    },
    "language_info": {
      "name": "python"
    }
  },
  "cells": [
    {
      "cell_type": "code",
      "execution_count": null,
      "metadata": {
        "colab": {
          "base_uri": "https://localhost:8080/"
        },
        "id": "zfnA2cjNgpOZ",
        "outputId": "4e2bd22f-d6d6-420c-8ac9-fdd6046facc4"
      },
      "outputs": [
        {
          "output_type": "stream",
          "name": "stdout",
          "text": [
            "1\n",
            "2\n",
            "3\n",
            "4\n",
            "5\n",
            "6\n",
            "7\n",
            "8\n",
            "9\n",
            "10\n"
          ]
        }
      ],
      "source": [
        "#laço 'while' funciona sob uma condição\n",
        "#O 'while' pe uma palavra chave para 'enquanto'. EX: Enquanto contador for menor ou igual a 10 'execute tal coisa'.\n",
        "contador = 1\n",
        "while contador <= 10:\n",
        "  print(contador)\n",
        "  contador = contador+1"
      ]
    },
    {
      "cell_type": "code",
      "source": [
        "#Resumindo e melhorando o codigo com 'while'\n",
        "contador = 1\n",
        "while contador <= 3:\n",
        "  nota_1 = float(input('Digite a 1° nota: '))\n",
        "  nota_2 = float(input('Digite a 2° nota: '))\n",
        "\n",
        "  print(f'Média: {(nota_1+nota_2)/2}')\n",
        "  contador = contador + 1"
      ],
      "metadata": {
        "colab": {
          "base_uri": "https://localhost:8080/"
        },
        "id": "aIkeqUd_tDji",
        "outputId": "b9036d07-6ab3-49d5-aeeb-16522e48242b"
      },
      "execution_count": null,
      "outputs": [
        {
          "output_type": "stream",
          "name": "stdout",
          "text": [
            "Digite a 1° nota: 88\n",
            "Digite a 2° nota: 88\n",
            "Média: 88.0\n",
            "Digite a 1° nota: 90\n",
            "Digite a 2° nota: 95\n",
            "Média: 92.5\n",
            "Digite a 1° nota: 98\n",
            "Digite a 2° nota: 100\n",
            "Média: 99.0\n"
          ]
        }
      ]
    },
    {
      "cell_type": "markdown",
      "source": [
        "**===FOR===**\n",
        "Funciona sob interação de um conjunto de elementos\n",
        "For é uma palavra chave para \"PARA\". EX: Para um determinado elemento contido dentro de um conjunto de dados \"rode tal comando\"\n",
        "\n",
        "\n",
        "**Função range()**:\n",
        "\n",
        "Para fazer um exemplo for for com um contador, precisamos de um conjunto de elementos que podem ser criados pela função range().\n",
        "\n",
        "A função range() é responsável por criar uma sequência de números inteiros por meio da especificação do início e o fim da sequência. Também podemos identificar o passo dessa sequência, por exemplo, de dois em dois números.** Caso o passo não seja especificado ele sera igual a 1**\n",
        "\n",
        "Sua aplicação é útil para a criação de contadores e delimitadores numéricos, como fizemos com o laço while.\n",
        "\n",
        "A sintaxe de criação dessa função é:"
      ],
      "metadata": {
        "id": "nkYSQgx0_7Mv"
      }
    },
    {
      "cell_type": "code",
      "source": [
        "#range(inicio, fim, passo)\n",
        "\n",
        "for contador in range(1,11):\n",
        "  print(contador)"
      ],
      "metadata": {
        "colab": {
          "base_uri": "https://localhost:8080/"
        },
        "id": "ygb4nIRCAPde",
        "outputId": "b16b3be6-c082-41fa-956b-f9decb37e2c3"
      },
      "execution_count": null,
      "outputs": [
        {
          "output_type": "stream",
          "name": "stdout",
          "text": [
            "1\n",
            "2\n",
            "3\n",
            "4\n",
            "5\n",
            "6\n",
            "7\n",
            "8\n",
            "9\n",
            "10\n"
          ]
        }
      ]
    },
    {
      "cell_type": "code",
      "source": [
        "for contador in range(1,4):\n",
        "  nota_1 = float(input('Digite a 1° nota: '))\n",
        "  nota_2 = float(input('Digite a 2° nota: '))\n",
        "\n",
        "  print(f'Média: {(nota_1+nota_2)/2}')"
      ],
      "metadata": {
        "colab": {
          "base_uri": "https://localhost:8080/"
        },
        "id": "wjw6O0pEDmei",
        "outputId": "8df9404e-61de-41b9-9538-be606b17f306"
      },
      "execution_count": null,
      "outputs": [
        {
          "output_type": "stream",
          "name": "stdout",
          "text": [
            "Digite a 1° nota: 88\n",
            "Digite a 2° nota: 98\n",
            "Média: 93.0\n",
            "Digite a 1° nota: 98\n",
            "Digite a 2° nota: 79\n",
            "Média: 88.5\n",
            "Digite a 1° nota: 100\n",
            "Digite a 2° nota: 100\n",
            "Média: 100.0\n"
          ]
        }
      ]
    },
    {
      "cell_type": "code",
      "source": [
        "'''\n",
        "Esse código imprime todos os números de 1 a 5, exceto o 4. Quando o valor de i for 4, o continue salta para a próxima iteração,\n",
        "ignorando o comando print abaixo da condicional na iteração atual.\n",
        "'''\n",
        "\n",
        "for i in range(1,6):\n",
        "    if i == 4:\n",
        "        continue\n",
        "    print(i)\n"
      ],
      "metadata": {
        "colab": {
          "base_uri": "https://localhost:8080/"
        },
        "id": "OZJJpRdOE1-c",
        "outputId": "22ddbb5d-adf4-417d-bb31-abc83988b6c4"
      },
      "execution_count": null,
      "outputs": [
        {
          "output_type": "stream",
          "name": "stdout",
          "text": [
            "1\n",
            "2\n",
            "3\n",
            "5\n"
          ]
        }
      ]
    },
    {
      "cell_type": "code",
      "source": [
        "#Já o break interrompe a execução do laço completamente, saindo do bloco de código. Vamos usar o mesmo exemplo de contagem, mas agora colocaremos o break:\n",
        "\n",
        "for i in range(1,6):\n",
        "    if i == 4:\n",
        "        break\n",
        "    print(i)\n"
      ],
      "metadata": {
        "colab": {
          "base_uri": "https://localhost:8080/"
        },
        "id": "8fyYiTeqE-cW",
        "outputId": "6f1d61fe-e2d2-4a5d-d4cc-021e13893cb6"
      },
      "execution_count": null,
      "outputs": [
        {
          "output_type": "stream",
          "name": "stdout",
          "text": [
            "1\n",
            "2\n",
            "3\n"
          ]
        }
      ]
    },
    {
      "cell_type": "code",
      "source": [
        "total_imoveis = 0\n",
        "\n",
        "for ano in range(2017,2023):\n",
        "  quantidade_imoveis = float(input(f'Digite a quantidade de imóveis no ano {ano}: '))\n",
        "  total_imoveis = total_imoveis + quantidade_imoveis\n",
        "\n",
        "print(f'Total de imóveis construídos: {total_imoveis} imóveis')"
      ],
      "metadata": {
        "colab": {
          "base_uri": "https://localhost:8080/"
        },
        "id": "MEQ93EERHSSH",
        "outputId": "a667050b-8c5e-473f-b282-7e4a623edd01"
      },
      "execution_count": null,
      "outputs": [
        {
          "output_type": "stream",
          "name": "stdout",
          "text": [
            "Digite a quantidade de imóveis no ano 2017: 2\n",
            "Digite a quantidade de imóveis no ano 2018: 5\n",
            "Digite a quantidade de imóveis no ano 2019: 3\n",
            "Digite a quantidade de imóveis no ano 2020: 2\n",
            "Digite a quantidade de imóveis no ano 2021: 4\n",
            "Digite a quantidade de imóveis no ano 2022: 4\n",
            "Total de imóveis construídos: 20.0 imóveis\n"
          ]
        }
      ]
    }
  ]
}