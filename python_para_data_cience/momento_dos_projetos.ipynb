{
  "nbformat": 4,
  "nbformat_minor": 0,
  "metadata": {
    "colab": {
      "provenance": []
    },
    "kernelspec": {
      "name": "python3",
      "display_name": "Python 3"
    },
    "language_info": {
      "name": "python"
    }
  },
  "cells": [
    {
      "cell_type": "code",
      "execution_count": null,
      "metadata": {
        "colab": {
          "base_uri": "https://localhost:8080/"
        },
        "id": "c2QPihRGZlPi",
        "outputId": "336ec9f5-5e2c-42bb-f444-424ce93674a7"
      },
      "outputs": [
        {
          "output_type": "stream",
          "name": "stdout",
          "text": [
            "Digite o primeiro numero: 5\n",
            "Digite o segundo numero: 8\n",
            "\n",
            "\n",
            "Informe a operação que deseja realizar com eles!\n",
            "\n",
            "\n",
            "1- Multiplicação;\n",
            "2- Adição;\n",
            "3- Subtração;\n",
            "4- Divisão\n",
            "1\n",
            "\n",
            "\n",
            "O resultado da multriplicação é 40\n"
          ]
        }
      ],
      "source": [
        "'''\n",
        "10) Um programa deve ser escrito para ler dois números e, em seguida, perguntar à pessoa usuária qual operação ele deseja realizar.\n",
        "O resultado da operação deve incluir informações sobre o número - se é par ou ímpar, positivo ou negativo e inteiro ou decimal.\n",
        "'''\n",
        "\n",
        "n1 = int(input('Digite o primeiro numero: '))\n",
        "n2 = int(input('Digite o segundo numero: '))\n",
        "\n",
        "print(\"\\n\")\n",
        "print('Informe a operação que deseja realizar com eles!')\n",
        "\n",
        "print(\"\\n\")\n",
        "operacao = int(input(\"1- Multiplicação;\\n2- Adição;\\n3- Subtração;\\n4- Divisão\\n\"))\n",
        "print(\"\\n\")\n",
        "\n",
        "if operacao == 1:\n",
        "  mult = n1*n2\n",
        "  print(f'O resultado da multriplicação é {mult}' )\n",
        "elif operacao == 2:\n",
        "  adic = n1+n2\n",
        "  print(f'O resultado da adição é {adic}' )\n",
        "elif operacao == 3:\n",
        "  sub = n1-n2\n",
        "  print(f'O resultado da subtração é {sub}' )\n",
        "elif operacao == 4:\n",
        "  div = n1/n2\n",
        "  print(f'O resultado da divisão é {div}' )\n",
        "else:\n",
        "  print('Informe um valor valido!')"
      ]
    },
    {
      "cell_type": "markdown",
      "source": [
        "11) Escreva um programa que peça à pessoa usuária três números que representam os lados de um triângulo. O programa deve informar se os valores podem ser utilizados para formar um triângulo e, caso afirmativo, se ele é equilátero, isósceles ou escaleno. Tenha em mente algumas dicas:\n",
        "\n",
        "\n",
        "\n",
        "*   Três lados formam um triângulo quando a soma de quaisquer dois lados for maior que o terceiro;\n",
        "*   Triângulo Equilátero: três lados iguais;\n",
        "*   Triângulo Isósceles: quaisquer dois lados iguais;\n",
        "*   Triângulo Escaleno: três lados diferentes.\n",
        "\n",
        "\n",
        "\n"
      ],
      "metadata": {
        "id": "hmrV1e5Hhz1K"
      }
    },
    {
      "cell_type": "code",
      "source": [
        "print('Informe três valores(lados) para formar um triângulo!')\n",
        "\n",
        "l1 = int(input('Lado 1: '))\n",
        "l2 = int(input('Lado 2: '))\n",
        "l3 = int(input('Lado 3: '))\n",
        "\n",
        "#Verifica se é um trinângulo\n",
        "if l1 < l2+l3 and l2 < l1+l3 and l3 < l1+l2 :\n",
        "  print('Os valores fornecidos formam um triângulo.\\n')\n",
        "  if l1 == l2 and l2 == l3:\n",
        "    print('==Triângulo Equilátero.==')\n",
        "  elif l1 == l2 or l1 == l3 or l2 == l3:\n",
        "    print('==Triângulo Isósceles==')\n",
        "  elif l1 != l2 and l1 != l3 and l2 !=l3:\n",
        "    print('==Triângulo Escaleno==')\n",
        "else:\n",
        "  print('Os valores fornecidos NÃO formam um triângulo.')"
      ],
      "metadata": {
        "colab": {
          "base_uri": "https://localhost:8080/"
        },
        "id": "Vra8TwwMiHbe",
        "outputId": "86de6a7e-5a3f-45a7-9af4-e30614ab2085"
      },
      "execution_count": null,
      "outputs": [
        {
          "output_type": "stream",
          "name": "stdout",
          "text": [
            "Informe três valores(lados) para formar um triângulo!\n",
            "Lado 1: 5\n",
            "Lado 2: 7\n",
            "Lado 3: 8\n",
            "Os valores fornecidos formam um triângulo.\n",
            "\n",
            "==Triângulo Escaleno==\n"
          ]
        }
      ]
    },
    {
      "cell_type": "markdown",
      "source": [
        "12) Um estabelecimento está vendendo combustíveis com descontos variados. Para o etanol, se a quantidade comprada for até 15 litros, o desconto será de 2% por litro. Caso contrário, será de 4% por litro. Para o diesel, se a quantidade comprada for até 15 litros, o desconto será de 3% por litro. Caso contrário, será de 5% por litro. O preço do litro de diesel é R$ 2,00 e o preço do litro de etanol é R$ 1,70. Escreva um programa que leia a quantidade de litros vendidos e o tipo de combustível (E para etanol e D para diesel) e calcule o valor a ser pago pelo cliente. Tenha em mente algumas dicas:\n",
        "\n",
        "\n",
        "\n",
        "*   O do valor do desconto será a multiplicação entre preço do litro, quantidade de litros e o valor do desconto.\n",
        "*   O valor a ser pago por um cliente será o resultado da multiplicação do preço do litro pela quantidade de litros menos o valor de desconto resultante do cálculo.\n",
        "\n"
      ],
      "metadata": {
        "id": "ZUYzdujzs18m"
      }
    },
    {
      "cell_type": "code",
      "source": [
        "litros = float(input('Informe os litros: '))\n",
        "print(\"\\n\")\n",
        "\n",
        "print('Qual o tipo de combustível? ')\n",
        "combustivel = input('E- Etanol \\nD- Disel:\\n')\n",
        "\n",
        "if combustivel == 'E':\n",
        "  if litros <= 15:\n",
        "    valor_sem_desc = litros*1.7\n",
        "    deconto = 2/100*valor_sem_desc\n",
        "\n",
        "    valor_com_desc = valor_sem_desc - deconto\n",
        "    print(f'O valor total é {valor_sem_desc}, com o desconto de 2% fica {valor_com_desc}')\n",
        "  elif litros > 15:\n",
        "      valor_sem_desc = litros*1.7\n",
        "      deconto = 4/100*valor_sem_desc\n",
        "\n",
        "      valor_com_desc = valor_sem_desc - deconto\n",
        "      print(f'O valor total é {valor_sem_desc}, com o desconto de 4% fica {valor_com_desc}')\n",
        "\n",
        "elif combustivel == 'D':\n",
        "    if litros <= 15:\n",
        "       valor_sem_desc = litros*2.0\n",
        "       deconto = 3/100*valor_sem_desc\n",
        "\n",
        "       valor_com_desc = valor_sem_desc - deconto\n",
        "       print(f'O valor total é {valor_sem_desc}, com o desconto de 3% fica {valor_com_desc}')\n",
        "    elif litros > 15:\n",
        "       valor_sem_desc = litros*2.0\n",
        "       deconto = 5/100*valor_sem_desc\n",
        "\n",
        "       valor_com_desc = valor_sem_desc - deconto\n",
        "       print(f'O valor total é {valor_sem_desc}, com o desconto de 5% fica {valor_com_desc}')"
      ],
      "metadata": {
        "colab": {
          "base_uri": "https://localhost:8080/"
        },
        "id": "1lVGo6JttIle",
        "outputId": "26d4e1fa-1712-4ede-fff1-02402cc29448"
      },
      "execution_count": null,
      "outputs": [
        {
          "output_type": "stream",
          "name": "stdout",
          "text": [
            "Informe os litros: 32\n",
            "\n",
            "\n",
            "Qual o tipo de combustível? \n",
            "E- Etanol \n",
            "D- Disel:\n",
            "D\n",
            "O valor total é 64.0, com o desconto de 5% fica 60.8\n"
          ]
        }
      ]
    },
    {
      "cell_type": "code",
      "source": [],
      "metadata": {
        "id": "1F5Uv8tJCDYK"
      },
      "execution_count": null,
      "outputs": []
    }
  ]
}