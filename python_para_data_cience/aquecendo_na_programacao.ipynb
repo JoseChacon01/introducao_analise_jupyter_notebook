{
  "nbformat": 4,
  "nbformat_minor": 0,
  "metadata": {
    "colab": {
      "provenance": []
    },
    "kernelspec": {
      "name": "python3",
      "display_name": "Python 3"
    },
    "language_info": {
      "name": "python"
    }
  },
  "cells": [
    {
      "cell_type": "code",
      "execution_count": null,
      "metadata": {
        "colab": {
          "base_uri": "https://localhost:8080/"
        },
        "id": "LX59zfyo0skk",
        "outputId": "97d6770c-c668-4176-c30a-22f9600fc032"
      },
      "outputs": [
        {
          "output_type": "stream",
          "name": "stdout",
          "text": [
            "Digite dois numeros para comparar o maior entre eles!\n",
            "Digite o primeiro numero: 700\n",
            "Digite o segundo numero: 699\n",
            "O maior numero é: 700\n"
          ]
        }
      ],
      "source": [
        "#1) Escreva um programa que peça à pessoa usuária para fornecer dois números e exibir o número maior.\n",
        "\n",
        "print('Digite dois numeros para comparar o maior entre eles!')\n",
        "\n",
        "n1 = input('Digite o primeiro numero: ')\n",
        "n2 = input('Digite o segundo numero: ')\n",
        "\n",
        "if n1 > n2:\n",
        "  print('O maior numero é: {}' .format(n1))\n",
        "else:\n",
        "    print('O maior numero é: {}' .format(n2))"
      ]
    },
    {
      "cell_type": "code",
      "source": [
        "#2) Escreva um programa que solicite o percentual de crescimento de produção de uma empresa e informe se houve um crescimento (porcentagem positiva) ou decrescimento (porcentagem negativa).\n",
        "\n",
        "print('Informe a produção da empresa nos ultimos 2 meses, em porcentagem!')\n",
        "\n",
        "primeiro_mes = float(input('Digite o valor da produção no primeiro mês: '))\n",
        "segundo_mes = float(input('Digite o valor da produção no segundo mês: '))\n",
        "\n",
        "subtracao = segundo_mes - primeiro_mes\n",
        "\n",
        "if segundo_mes < primeiro_mes:\n",
        "  print('A empresa teve um decrescimento de {} % em comparação com o primeiro mês' .format(subtracao))\n",
        "else:\n",
        "  print('A empresa teve um crescimento de {} % em comparação com o primeiro mês' .format(subtracao))"
      ],
      "metadata": {
        "colab": {
          "base_uri": "https://localhost:8080/"
        },
        "id": "S5FLaP-31l3v",
        "outputId": "073c7444-29ee-445a-d734-87cd98a1bdc2"
      },
      "execution_count": null,
      "outputs": [
        {
          "output_type": "stream",
          "name": "stdout",
          "text": [
            "Informe a produção da empresa nos ultimos 2 meses, em porcentagem!\n",
            "Digite o valor da produção no primeiro mês: 80\n",
            "Digite o valor da produção no segundo mês: 50\n",
            "A empresa teve um decrescimento de -30.0 % em comparação com o primeiro mês\n"
          ]
        }
      ]
    },
    {
      "cell_type": "code",
      "source": [
        "#3) Escreva um programa que determine se uma letra fornecida pela pessoa usuária é uma vogal ou consoante.\n",
        "vogal = ['A', 'E', 'I', 'O', 'U']\n",
        "\n",
        "letra = input('Informe uma letra: ')\n",
        "\n",
        "if letra in vogal:\n",
        "  print('A letra {} é uma vogal' .format(letra))\n",
        "else:\n",
        "  print('A letra {} é uma consoante' .format(letra))"
      ],
      "metadata": {
        "colab": {
          "base_uri": "https://localhost:8080/"
        },
        "id": "JbJKXUqd4lse",
        "outputId": "7b5f52e5-9aa0-4cb5-ed55-850cdcb1e4a3"
      },
      "execution_count": null,
      "outputs": [
        {
          "output_type": "stream",
          "name": "stdout",
          "text": [
            "Informe uma letra: B\n",
            "A letra B é uma consoante\n"
          ]
        }
      ]
    },
    {
      "cell_type": "code",
      "source": [
        "#4) Escreva um programa que leia valores médios de preços de um modelo de carro por 3 anos consecutivos e exiba o valor mais alto e mais baixo entre esses três anos.\n",
        "variacao = [34.500, 33.900, 39.200, 34.700, 31.000, 30.998]\n",
        "\n",
        "max_value = max(variacao)\n",
        "min_value = min(variacao)\n",
        "print('Valor maximo:', max_value)\n",
        "print('Valor minimo:', min_value)\n"
      ],
      "metadata": {
        "colab": {
          "base_uri": "https://localhost:8080/"
        },
        "id": "ycH3AD8Y9wtL",
        "outputId": "90d0e690-e8ad-407f-fa9a-1b6318575ed4"
      },
      "execution_count": null,
      "outputs": [
        {
          "output_type": "stream",
          "name": "stdout",
          "text": [
            "Valor maximo: 39.2\n",
            "Valor minimo: 30.998\n"
          ]
        }
      ]
    },
    {
      "cell_type": "code",
      "source": [
        "#5) Escreva um programa que pergunte sobre o preço de três produtos e indique qual é o produto mais barato para comprar.\n",
        "\n",
        "produto1 = float(input('Informe o valor do produto 1: '))\n",
        "produto2 = float(input('Informe o valor do produto 2: '))\n",
        "produto3 = float(input('Informe o valor do produto 3: '))\n",
        "\n",
        "if produto1 < produto2 and produto1 < produto3:\n",
        "  print('O produto mais barato é o produto 1, que custa {} reais' .format(produto1))\n",
        "elif produto2 < produto1 and produto2 < produto3:\n",
        "  print('O produto mais barato é o produto 2, que custa {} reais' .format(produto2))\n",
        "elif produto1 == produto2 or produto1 == produto3 or produto2 == produto3:\n",
        "  print('Mais de um produto possui o mesmo valor!')\n",
        "else:\n",
        "  print('O produto mais barato é o produto 3, que custa {} reais' .format(produto3))\n"
      ],
      "metadata": {
        "colab": {
          "base_uri": "https://localhost:8080/"
        },
        "id": "iPJHJY_bE1oO",
        "outputId": "761038d9-bf56-4521-d52f-30cef0fa2d45"
      },
      "execution_count": null,
      "outputs": [
        {
          "output_type": "stream",
          "name": "stdout",
          "text": [
            "Informe o valor do produto 1: 40\n",
            "Informe o valor do produto 2: 50\n",
            "Informe o valor do produto 3: 40\n",
            "Mais de um produto possui o mesmo valor!\n"
          ]
        }
      ]
    },
    {
      "cell_type": "code",
      "source": [
        "#6) Escreva um programa que leia três números e os exiba em ordem decrescente.\n",
        "\n",
        "v1 = input('Digite o primeiro numero: ')\n",
        "v2 = input('Digite o segundo numero: ')\n",
        "v3 = input('Digite o terceiro numero: ')\n",
        "\n",
        "if v1 >= v2 and v1 >= v3 and v2 >= v3:\n",
        "  print(f'ordem decrescente é {v1}, {v2}, {v3}')\n",
        "elif v1 >= v2 and v1 >= v3 and v3 >= v2:\n",
        "  print(f'ordem decrescente é {v1}, {v3}, {v2}')\n",
        "\n",
        "elif v2 >= v1 and v2 >= v3 and v1 >= v3:\n",
        "  print(f'ordem decrescente é {v2}, {v1}, {v3}')\n",
        "elif v2 >= v1 and v2 >= v3 and v3 >= v1:\n",
        "  print(f'ordem decrescente é {v2}, {v3}, {v1}')\n",
        "\n",
        "elif v3 >= v1 and v3 >= v2 and v1 >= v2:\n",
        "  print(f'ordem decrescente é {v3}, {v1}, {v2}')\n",
        "elif v3 >= v1 and v3 >= v2 and v2 >= v1:\n",
        "  print(f'ordem decrescente é {v3}, {v2}, {v1}')\n"
      ],
      "metadata": {
        "colab": {
          "base_uri": "https://localhost:8080/"
        },
        "id": "UTHDa3yOKghG",
        "outputId": "87ef92c5-0813-4425-abbf-0f18c79b2d18"
      },
      "execution_count": null,
      "outputs": [
        {
          "output_type": "stream",
          "name": "stdout",
          "text": [
            "Digite o primeiro numero: 80\n",
            "Digite o segundo numero: 40\n",
            "Digite o terceiro numero: 20\n",
            "ordem decrescente é 80, 40, 20\n"
          ]
        }
      ]
    },
    {
      "cell_type": "code",
      "source": [
        "#7) Escreva um programa que pergunte em qual turno a pessoa usuária estuda (\"manhã\", \"tarde\" ou \"noite\") e exiba a mensagem \"Bom Dia!\", \"Boa Tarde!\", \"Boa Noite!\", ou \"Valor Inválido!\", conforme o caso.\n",
        "\n",
        "turno = input('Qual turno você estuda? ')\n",
        "\n",
        "if turno == 'manhã':\n",
        "  print('Bom Dia!')\n",
        "elif turno == 'tarde':\n",
        "  print('Boa Tarde!')\n",
        "elif turno == 'noite':\n",
        "  print('Boa Noite')\n",
        "else:\n",
        "  print('Valor Inválido!')\n"
      ],
      "metadata": {
        "colab": {
          "base_uri": "https://localhost:8080/"
        },
        "id": "xif1987nVz2t",
        "outputId": "5c49dae9-841c-4c47-bc51-dba1a6720396"
      },
      "execution_count": null,
      "outputs": [
        {
          "output_type": "stream",
          "name": "stdout",
          "text": [
            "Qual turno você estuda? ad\n",
            "Valor Inválido!\n"
          ]
        }
      ]
    },
    {
      "cell_type": "code",
      "source": [
        "#8) Escreva um programa que peça um número inteiro à pessoa usuária e determine se ele é par ou ímpar. Dica: Você pode utilizar o operador módulo %.\n",
        "\n",
        "valor = int(input('Digite um valor: '))\n",
        "\n",
        "verificar = valor % 2\n",
        "\n",
        "if verificar == 0:\n",
        "  print(f'O valor {valor} é PAR.')\n",
        "else:\n",
        "  print(f'O valor {valor} é IMPAR.')"
      ],
      "metadata": {
        "colab": {
          "base_uri": "https://localhost:8080/"
        },
        "id": "HPFVfJVSXDtL",
        "outputId": "ae0de492-4420-4569-bda2-cc9033a08d59"
      },
      "execution_count": null,
      "outputs": [
        {
          "output_type": "stream",
          "name": "stdout",
          "text": [
            "Digite um valor: 80\n",
            "O valor 80 é PAR.\n"
          ]
        }
      ]
    },
    {
      "cell_type": "code",
      "source": [
        "#9) Escreva um programa que peça um número à pessoa usuária e informe se ele é inteiro ou decimal.\n",
        "num = input('Digite um número: ')\n",
        "\n",
        "try:\n",
        "    num = float(num) #converter a string de entrada em um número de ponto flutuante.\n",
        "    if num.is_integer(): #verificamos se o número é um inteiro\n",
        "        print('INTEIRO')\n",
        "    else:\n",
        "        print('DECIMAL')\n",
        "except ValueError:\n",
        "    print('Não é um número válido.')\n"
      ],
      "metadata": {
        "colab": {
          "base_uri": "https://localhost:8080/"
        },
        "id": "JRH5s2GjaVSP",
        "outputId": "37d4f76a-89b2-4150-8f75-0173a88df914"
      },
      "execution_count": null,
      "outputs": [
        {
          "output_type": "stream",
          "name": "stdout",
          "text": [
            "Digite um número: 55.55\n",
            "DECIMAL\n"
          ]
        }
      ]
    }
  ]
}