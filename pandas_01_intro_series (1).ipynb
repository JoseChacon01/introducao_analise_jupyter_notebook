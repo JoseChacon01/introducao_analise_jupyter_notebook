{
  "cells": [
    {
      "cell_type": "markdown",
      "id": "71e3d0de",
      "metadata": {
        "id": "71e3d0de"
      },
      "source": [
        "# Pandas"
      ]
    },
    {
      "cell_type": "markdown",
      "id": "f3536aa6",
      "metadata": {
        "id": "f3536aa6"
      },
      "source": [
        "Ferramenta python para análise e manipulação de dados de código aberto, poderosa e flexível.\n",
        "- Converte e mapeia dados de um estado \"bruto\" para um formato que permita a fácil manipulação\n",
        "- Bastante usada na fase de preparação de dados;\n",
        "- Boa integração com a ferramenta Numpy.\n",
        "\n",
        "Formatos:\n",
        "- Serie;\n",
        "- Dataframe.\n",
        "\n",
        "Site oficial:\n",
        "- https://pandas.pydata.org/\n",
        "\n",
        "Instalação:\n",
        "- pip install pandas"
      ]
    },
    {
      "cell_type": "markdown",
      "id": "c1ff13bf",
      "metadata": {
        "id": "c1ff13bf"
      },
      "source": [
        "#### Importando a biblioteca"
      ]
    },
    {
      "cell_type": "code",
      "execution_count": null,
      "id": "36745479",
      "metadata": {
        "id": "36745479"
      },
      "outputs": [],
      "source": [
        "import pandas as pd"
      ]
    },
    {
      "cell_type": "markdown",
      "id": "682642fc",
      "metadata": {
        "id": "682642fc"
      },
      "source": [
        "## Series"
      ]
    },
    {
      "cell_type": "markdown",
      "id": "200eca2a",
      "metadata": {
        "id": "200eca2a"
      },
      "source": [
        "Array unidimensional que contém um array de dados (values) e um array de labels (index)\n",
        "\n",
        "series_exemplo = Series([4, 7, -5, 3], index = ['a', 'b', 'c', 'd'])"
      ]
    },
    {
      "cell_type": "markdown",
      "id": "65b3f46b",
      "metadata": {
        "id": "65b3f46b"
      },
      "source": [
        "#### Criando uma Serie"
      ]
    },
    {
      "cell_type": "code",
      "execution_count": null,
      "id": "ca6a9606",
      "metadata": {
        "colab": {
          "base_uri": "https://localhost:8080/"
        },
        "id": "ca6a9606",
        "outputId": "08c5022e-b2f7-4915-975c-fa620a6ff634"
      },
      "outputs": [
        {
          "output_type": "execute_result",
          "data": {
            "text/plain": [
              "0     5\n",
              "1     2\n",
              "2    54\n",
              "3     1\n",
              "dtype: int64"
            ]
          },
          "metadata": {},
          "execution_count": 2
        }
      ],
      "source": [
        "series_1 = pd.Series([5,2,54,1])\n",
        "series_1"
      ]
    },
    {
      "cell_type": "markdown",
      "id": "9be7799d",
      "metadata": {
        "id": "9be7799d"
      },
      "source": [
        "#### Acessando/Imprimindo valores da Serie"
      ]
    },
    {
      "cell_type": "code",
      "execution_count": null,
      "id": "a3d33da4",
      "metadata": {
        "colab": {
          "base_uri": "https://localhost:8080/"
        },
        "id": "a3d33da4",
        "outputId": "b66ca02f-c937-46dc-db21-0a1c984e2b42"
      },
      "outputs": [
        {
          "output_type": "execute_result",
          "data": {
            "text/plain": [
              "array([ 5,  2, 54,  1])"
            ]
          },
          "metadata": {},
          "execution_count": 3
        }
      ],
      "source": [
        "series_1.values"
      ]
    },
    {
      "cell_type": "markdown",
      "id": "1637cf6d",
      "metadata": {
        "id": "1637cf6d"
      },
      "source": [
        "#### Acessando/Imprimindo índices da Serie"
      ]
    },
    {
      "cell_type": "code",
      "execution_count": null,
      "id": "37be2800",
      "metadata": {
        "colab": {
          "base_uri": "https://localhost:8080/"
        },
        "id": "37be2800",
        "outputId": "50b88bcf-2611-41bd-9c3f-6fe0d96f4f1a"
      },
      "outputs": [
        {
          "output_type": "execute_result",
          "data": {
            "text/plain": [
              "RangeIndex(start=0, stop=4, step=1)"
            ]
          },
          "metadata": {},
          "execution_count": 4
        }
      ],
      "source": [
        "series_1.index"
      ]
    },
    {
      "cell_type": "markdown",
      "id": "32f861ca",
      "metadata": {
        "id": "32f861ca"
      },
      "source": [
        "#### Acessando um valor da Serie"
      ]
    },
    {
      "cell_type": "code",
      "execution_count": null,
      "id": "23683e55",
      "metadata": {
        "colab": {
          "base_uri": "https://localhost:8080/"
        },
        "id": "23683e55",
        "outputId": "5858eb83-308d-4359-e2bd-e1890e5140cd"
      },
      "outputs": [
        {
          "output_type": "execute_result",
          "data": {
            "text/plain": [
              "54"
            ]
          },
          "metadata": {},
          "execution_count": 5
        }
      ],
      "source": [
        "series_1[2]"
      ]
    },
    {
      "cell_type": "markdown",
      "id": "b1275d4c",
      "metadata": {
        "id": "b1275d4c"
      },
      "source": [
        "#### Informando manualmente os índices da Serie"
      ]
    },
    {
      "cell_type": "code",
      "execution_count": null,
      "id": "3a0a3bc4",
      "metadata": {
        "colab": {
          "base_uri": "https://localhost:8080/"
        },
        "id": "3a0a3bc4",
        "outputId": "09f32d9d-df4a-4553-e54d-20ce993ee619"
      },
      "outputs": [
        {
          "output_type": "execute_result",
          "data": {
            "text/plain": [
              "a     5\n",
              "b     2\n",
              "c    54\n",
              "d     1\n",
              "dtype: int64"
            ]
          },
          "metadata": {},
          "execution_count": 6
        }
      ],
      "source": [
        "series_2 = pd.Series([5,2,54,1], index=['a', 'b', 'c', 'd'])\n",
        "series_2"
      ]
    },
    {
      "cell_type": "code",
      "execution_count": null,
      "id": "07d29343",
      "metadata": {
        "colab": {
          "base_uri": "https://localhost:8080/"
        },
        "id": "07d29343",
        "outputId": "95907e22-6c25-4c9d-b8db-021aa422b785"
      },
      "outputs": [
        {
          "output_type": "execute_result",
          "data": {
            "text/plain": [
              "Index(['a', 'b', 'c', 'd'], dtype='object')"
            ]
          },
          "metadata": {},
          "execution_count": 7
        }
      ],
      "source": [
        "series_2.index"
      ]
    },
    {
      "cell_type": "code",
      "execution_count": null,
      "id": "7c385a5a",
      "metadata": {
        "colab": {
          "base_uri": "https://localhost:8080/"
        },
        "id": "7c385a5a",
        "outputId": "88d42403-4464-43a6-ec79-821f3be54ae4"
      },
      "outputs": [
        {
          "output_type": "execute_result",
          "data": {
            "text/plain": [
              "2"
            ]
          },
          "metadata": {},
          "execution_count": 8
        }
      ],
      "source": [
        "series_2['b']"
      ]
    },
    {
      "cell_type": "markdown",
      "id": "fdee2cf5",
      "metadata": {
        "id": "fdee2cf5"
      },
      "source": [
        "#### Informando índices através de uma lista Python"
      ]
    },
    {
      "cell_type": "code",
      "execution_count": null,
      "id": "919fd89f",
      "metadata": {
        "colab": {
          "base_uri": "https://localhost:8080/"
        },
        "id": "919fd89f",
        "outputId": "73fa860f-e666-4c17-9a45-ba7637a33041"
      },
      "outputs": [
        {
          "output_type": "execute_result",
          "data": {
            "text/plain": [
              "a     5\n",
              "b     4\n",
              "c     2\n",
              "d    11\n",
              "dtype: int64"
            ]
          },
          "metadata": {},
          "execution_count": 9
        }
      ],
      "source": [
        "from pandas.core.series import Series\n",
        "lista_1 = ['a', 'b', 'c', 'd']\n",
        "series_3 = pd.Series([5,4,2,11], index=lista_1)\n",
        "series_3"
      ]
    },
    {
      "cell_type": "markdown",
      "id": "459fd079",
      "metadata": {
        "id": "459fd079"
      },
      "source": [
        "#### Criando uma Serie através de um dicionário de dados"
      ]
    },
    {
      "cell_type": "code",
      "execution_count": null,
      "id": "14de6393",
      "metadata": {
        "colab": {
          "base_uri": "https://localhost:8080/"
        },
        "id": "14de6393",
        "outputId": "355e4ca2-5099-44c4-f740-7f1d667f4e36"
      },
      "outputs": [
        {
          "output_type": "execute_result",
          "data": {
            "text/plain": [
              "a    10\n",
              "b    33\n",
              "c    25\n",
              "dtype: int64"
            ]
          },
          "metadata": {},
          "execution_count": 12
        }
      ],
      "source": [
        "dicionario_1 = {'a':10, 'b':33, 'c':25}\n",
        "series_4 = pd.Series(dicionario_1)\n",
        "series_4"
      ]
    },
    {
      "cell_type": "markdown",
      "id": "546508b7",
      "metadata": {
        "id": "546508b7"
      },
      "source": [
        "#### Criando Series usando Array numpy"
      ]
    },
    {
      "cell_type": "code",
      "execution_count": null,
      "id": "22ba50e7",
      "metadata": {
        "colab": {
          "base_uri": "https://localhost:8080/"
        },
        "id": "22ba50e7",
        "outputId": "d0203c0b-3c3b-40d8-9393-9bf3080f4416"
      },
      "outputs": [
        {
          "output_type": "execute_result",
          "data": {
            "text/plain": [
              "0     5\n",
              "1     2\n",
              "2    18\n",
              "dtype: int64"
            ]
          },
          "metadata": {},
          "execution_count": 14
        }
      ],
      "source": [
        "import numpy as np\n",
        "\n",
        "array_1 = np.array([5,2,18])\n",
        "series_5 = pd.Series(array_1)\n",
        "series_5"
      ]
    },
    {
      "cell_type": "markdown",
      "id": "b8d9062d",
      "metadata": {
        "id": "b8d9062d"
      },
      "source": [
        "#### Nomeando uma série"
      ]
    },
    {
      "cell_type": "code",
      "execution_count": null,
      "id": "73da73dd",
      "metadata": {
        "colab": {
          "base_uri": "https://localhost:8080/"
        },
        "id": "73da73dd",
        "outputId": "d1af5691-cf28-4f49-ebc5-b2ad2ab5edb8"
      },
      "outputs": [
        {
          "output_type": "execute_result",
          "data": {
            "text/plain": [
              "0     5\n",
              "1     2\n",
              "2    18\n",
              "Name: Aula, dtype: int64"
            ]
          },
          "metadata": {},
          "execution_count": 15
        }
      ],
      "source": [
        "series_5.name = 'Aula'\n",
        "series_5"
      ]
    },
    {
      "cell_type": "code",
      "execution_count": null,
      "id": "8bcc8cb0",
      "metadata": {
        "colab": {
          "base_uri": "https://localhost:8080/",
          "height": 35
        },
        "id": "8bcc8cb0",
        "outputId": "402edf57-cd7b-420d-9313-b8940ccd2143"
      },
      "outputs": [
        {
          "output_type": "execute_result",
          "data": {
            "text/plain": [
              "'Aula'"
            ],
            "application/vnd.google.colaboratory.intrinsic+json": {
              "type": "string"
            }
          },
          "metadata": {},
          "execution_count": 16
        }
      ],
      "source": [
        "series_5.name"
      ]
    },
    {
      "cell_type": "markdown",
      "id": "2108eddc",
      "metadata": {
        "id": "2108eddc"
      },
      "source": [
        "## Funções para Series"
      ]
    },
    {
      "cell_type": "markdown",
      "id": "0eebb718",
      "metadata": {
        "id": "0eebb718"
      },
      "source": [
        "#### head()\n",
        "\n",
        "Exibe as primeiras 5 linhas da série (cabeçalho)"
      ]
    },
    {
      "cell_type": "code",
      "execution_count": null,
      "id": "47a5096d",
      "metadata": {
        "colab": {
          "base_uri": "https://localhost:8080/"
        },
        "id": "47a5096d",
        "outputId": "4eb536a4-787f-4d67-82be-8166ce8448a4"
      },
      "outputs": [
        {
          "output_type": "execute_result",
          "data": {
            "text/plain": [
              "0    5\n",
              "1    4\n",
              "2    2\n",
              "3    5\n",
              "4    8\n",
              "dtype: int64"
            ]
          },
          "metadata": {},
          "execution_count": 18
        }
      ],
      "source": [
        "series_6 = pd.Series([5,4,2,5,8,6,2,7,8,9,6,5,4,8,7,4,5,8])\n",
        "series_6.head()"
      ]
    },
    {
      "cell_type": "markdown",
      "id": "40b96c4d",
      "metadata": {
        "id": "40b96c4d"
      },
      "source": [
        "#### describe()\n",
        "\n",
        "Retorna alguns dados estatísticos descritivos"
      ]
    },
    {
      "cell_type": "code",
      "execution_count": null,
      "id": "76fafb00",
      "metadata": {
        "id": "76fafb00"
      },
      "outputs": [],
      "source": []
    },
    {
      "cell_type": "markdown",
      "id": "b2e3b30d",
      "metadata": {
        "id": "b2e3b30d"
      },
      "source": [
        "#### sort_values()\n",
        "\n",
        "Ordena os valores de uma Serie"
      ]
    },
    {
      "cell_type": "code",
      "execution_count": null,
      "id": "0dbc7c95",
      "metadata": {
        "id": "0dbc7c95"
      },
      "outputs": [],
      "source": []
    },
    {
      "cell_type": "code",
      "execution_count": null,
      "id": "5aa4ad9f",
      "metadata": {
        "id": "5aa4ad9f"
      },
      "outputs": [],
      "source": []
    },
    {
      "cell_type": "markdown",
      "id": "13cbf939",
      "metadata": {
        "id": "13cbf939"
      },
      "source": [
        "#### isnull()\n",
        "\n",
        "Retorna True se o valor é nulo, False se não for"
      ]
    },
    {
      "cell_type": "code",
      "execution_count": null,
      "id": "3f0ad12d",
      "metadata": {
        "id": "3f0ad12d"
      },
      "outputs": [],
      "source": []
    },
    {
      "cell_type": "markdown",
      "id": "900bc318",
      "metadata": {
        "id": "900bc318"
      },
      "source": [
        "#### notnull()\n",
        "\n",
        "Retorna True se o valor não é, False se for"
      ]
    },
    {
      "cell_type": "code",
      "execution_count": null,
      "id": "77499b0d",
      "metadata": {
        "id": "77499b0d"
      },
      "outputs": [],
      "source": []
    },
    {
      "cell_type": "markdown",
      "id": "48716a52",
      "metadata": {
        "id": "48716a52"
      },
      "source": [
        "#### unique()\n",
        "\n",
        "Retorna uma lista dos elementos únicos com base na ocorrência."
      ]
    },
    {
      "cell_type": "code",
      "execution_count": null,
      "id": "a68edcfe",
      "metadata": {
        "id": "a68edcfe"
      },
      "outputs": [],
      "source": []
    },
    {
      "cell_type": "markdown",
      "id": "27d94db7",
      "metadata": {
        "id": "27d94db7"
      },
      "source": [
        "#### nunique()\n",
        "\n",
        "Número de itens distintos da Series. Não inclui dados nulos"
      ]
    },
    {
      "cell_type": "code",
      "execution_count": null,
      "id": "6d82600c",
      "metadata": {
        "id": "6d82600c"
      },
      "outputs": [],
      "source": []
    },
    {
      "cell_type": "markdown",
      "id": "d76dc636",
      "metadata": {
        "id": "d76dc636"
      },
      "source": [
        "#### max()\n",
        "\n",
        "Retorna o maior valor da Serie"
      ]
    },
    {
      "cell_type": "code",
      "execution_count": null,
      "id": "32bff26d",
      "metadata": {
        "id": "32bff26d"
      },
      "outputs": [],
      "source": []
    },
    {
      "cell_type": "markdown",
      "id": "1fa5fb80",
      "metadata": {
        "id": "1fa5fb80"
      },
      "source": [
        "#### min()\n",
        "\n",
        "Retorna o menor valor da Serie"
      ]
    },
    {
      "cell_type": "code",
      "execution_count": null,
      "id": "11287b3f",
      "metadata": {
        "id": "11287b3f"
      },
      "outputs": [],
      "source": []
    },
    {
      "cell_type": "markdown",
      "id": "9c9dbc83",
      "metadata": {
        "id": "9c9dbc83"
      },
      "source": [
        "#### sum()\n",
        "\n",
        "Retorna a soma de todos os valores numéricos da Serie"
      ]
    },
    {
      "cell_type": "code",
      "execution_count": null,
      "id": "e3d978d6",
      "metadata": {
        "id": "e3d978d6"
      },
      "outputs": [],
      "source": []
    }
  ],
  "metadata": {
    "kernelspec": {
      "display_name": "Python 3 (ipykernel)",
      "language": "python",
      "name": "python3"
    },
    "language_info": {
      "codemirror_mode": {
        "name": "ipython",
        "version": 3
      },
      "file_extension": ".py",
      "mimetype": "text/x-python",
      "name": "python",
      "nbconvert_exporter": "python",
      "pygments_lexer": "ipython3",
      "version": "3.10.8"
    },
    "colab": {
      "provenance": []
    }
  },
  "nbformat": 4,
  "nbformat_minor": 5
}