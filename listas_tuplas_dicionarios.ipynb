{
 "cells": [
  {
   "cell_type": "markdown",
   "id": "f8b0d979-9b9c-4e8c-9499-36f8de1735c7",
   "metadata": {},
   "source": [
    "LISTA DE DADOS\n",
    "\n",
    "-Estrutura que permite agrupar varios valores\n",
    "-Permite agrupar valores de tipos diferentes em uma mesma estrutura\n",
    "-Utiliza colchetes [] e separa os elementos com virgula"
   ]
  },
  {
   "cell_type": "code",
   "execution_count": 3,
   "id": "e506b173-4b7e-4aa9-993e-b84b8fbb7231",
   "metadata": {},
   "outputs": [
    {
     "name": "stdout",
     "output_type": "stream",
     "text": [
      "[5, 2, 1]\n",
      "2\n"
     ]
    }
   ],
   "source": [
    "#Criando listas\n",
    "\n",
    "lista1= [1, 21, 54, 88]\n",
    "lista2= [4.5, 2.4, 5.5]\n",
    "lista3= ['nota1', 'nota2', 'nota3']\n",
    "lista4= [True, False, False, True]\n",
    "lista5= [4, 'nota1', 2.5, True]\n",
    "lista6= [5, 3, [5, 2, 1]]\n",
    "\n",
    "print(lista6[2])\n",
    "print(lista6[2][1])"
   ]
  },
  {
   "cell_type": "code",
   "execution_count": 5,
   "id": "3167505c-0285-470c-b01a-2d5f399e8c18",
   "metadata": {},
   "outputs": [
    {
     "name": "stdout",
     "output_type": "stream",
     "text": [
      "[1, 21, 54, 88, 4.5, 2.4, 5.5]\n",
      "4\n"
     ]
    }
   ],
   "source": [
    "#len() -> Tamanho da lista\n",
    "\n",
    "lista1= [1, 21, 54, 88]\n",
    "lista2= [4.5, 2.4, 5.5]\n",
    "\n",
    "lista_juncao = lista1 + lista2\n",
    "print(lista_juncao)\n",
    "\n",
    "print(len(lista1))"
   ]
  },
  {
   "cell_type": "code",
   "execution_count": 6,
   "id": "f8702fbe-eb4d-4838-bec0-d4fbdbd1cc73",
   "metadata": {},
   "outputs": [
    {
     "name": "stdout",
     "output_type": "stream",
     "text": [
      "[1, 51, 54, 88]\n"
     ]
    }
   ],
   "source": [
    "#Substituir elementos da lista\n",
    "lista1= [1, 21, 54, 88]\n",
    "lista1[1] = 51\n",
    "\n",
    "print(lista1)"
   ]
  },
  {
   "cell_type": "code",
   "execution_count": 7,
   "id": "454ccb24-0cf2-44ea-8101-7a9bf1a13ebe",
   "metadata": {},
   "outputs": [
    {
     "name": "stdout",
     "output_type": "stream",
     "text": [
      "[1, 21, 54, 88, 77]\n"
     ]
    }
   ],
   "source": [
    "#Adicionar novo elemento a lista\n",
    "lista1= [1, 21, 54, 88]\n",
    "lista1.append(77)\n",
    "print(lista1)\n"
   ]
  },
  {
   "cell_type": "code",
   "execution_count": 9,
   "id": "f99eac17-6e56-40d2-9cfc-816e4cb36e92",
   "metadata": {},
   "outputs": [
    {
     "name": "stdout",
     "output_type": "stream",
     "text": [
      "[1, 21, 50, 54, 88]\n"
     ]
    }
   ],
   "source": [
    "#Inserindo um elemento em uma posição especifica\n",
    "lista1= [1, 21, 54, 88]\n",
    "lista1.insert(2,50)\n",
    "print(lista1)"
   ]
  },
  {
   "cell_type": "code",
   "execution_count": 10,
   "id": "790a9e84-26ec-4c15-aaf9-f2a613f1b002",
   "metadata": {},
   "outputs": [
    {
     "name": "stdout",
     "output_type": "stream",
     "text": [
      "2\n"
     ]
    }
   ],
   "source": [
    "#Retornando a posição de um elemento\n",
    "lista1= [1, 21, 54, 88]\n",
    "print(lista1.index(54))"
   ]
  },
  {
   "cell_type": "code",
   "execution_count": 11,
   "id": "f1f20ce7-6c08-42e7-82b9-5d31e4e74888",
   "metadata": {},
   "outputs": [
    {
     "name": "stdout",
     "output_type": "stream",
     "text": [
      "[88, 54, 21, 1]\n"
     ]
    }
   ],
   "source": [
    "#Invertendo a ordem dos elementos da lista\n",
    "lista1= [1, 21, 54, 88]\n",
    "lista1.reverse()\n",
    "print(lista1)\n"
   ]
  },
  {
   "cell_type": "code",
   "execution_count": 12,
   "id": "196d2cf3-3460-4446-96f0-fd244a80d84c",
   "metadata": {},
   "outputs": [
    {
     "name": "stdout",
     "output_type": "stream",
     "text": [
      "[1, 21, 54, 88]\n"
     ]
    }
   ],
   "source": [
    "#Ordenar lista\n",
    "lista1= [1, 21, 54, 88]\n",
    "lista1.sort()\n",
    "print(lista1)"
   ]
  },
  {
   "cell_type": "markdown",
   "id": "b74869f8-f9dc-4201-818b-4c42ba4b1224",
   "metadata": {},
   "source": [
    "TUPLAS\n",
    "\n",
    "- Estrutura semelhante a lista, mas não pode ser alterada (imutável)\n",
    "- Utiliza parênteses para definir e colchetes"
   ]
  },
  {
   "cell_type": "code",
   "execution_count": 13,
   "id": "1f6c297f-0860-4da3-9964-cd9de296beae",
   "metadata": {},
   "outputs": [
    {
     "name": "stdout",
     "output_type": "stream",
     "text": [
      "Segunda\n"
     ]
    }
   ],
   "source": [
    "tupla1 = (\"Segunda\", \"Terça\", \"Quarta\")\n",
    "print(tupla1[0])"
   ]
  },
  {
   "cell_type": "code",
   "execution_count": 14,
   "id": "baffed59-00ed-48f6-ba6a-6b942441c460",
   "metadata": {},
   "outputs": [
    {
     "name": "stdout",
     "output_type": "stream",
     "text": [
      "['Segunda', 'Terça', 'Quarta']\n"
     ]
    }
   ],
   "source": [
    "#Convertendo um tupla em lista - utiliza a função list()\n",
    "tupla1 = (\"Segunda\", \"Terça\", \"Quarta\")\n",
    "\n",
    "lista7 = list(tupla1)\n",
    "\n",
    "print(lista7)"
   ]
  },
  {
   "cell_type": "code",
   "execution_count": null,
   "id": "89e82698-7c13-4880-8b25-2fa5610cac11",
   "metadata": {},
   "outputs": [],
   "source": [
    "#Dicionario de dados\n",
    "\n",
    "- Estrutura de dados composta por chaves e valores\n",
    "- Utiliza {} para criação"
   ]
  },
  {
   "cell_type": "code",
   "execution_count": null,
   "id": "5a59f1c1-4f54-4b1c-8e7b-cbd3bc4b1bdb",
   "metadata": {},
   "outputs": [],
   "source": []
  }
 ],
 "metadata": {
  "kernelspec": {
   "display_name": "Python 3 (ipykernel)",
   "language": "python",
   "name": "python3"
  },
  "language_info": {
   "codemirror_mode": {
    "name": "ipython",
    "version": 3
   },
   "file_extension": ".py",
   "mimetype": "text/x-python",
   "name": "python",
   "nbconvert_exporter": "python",
   "pygments_lexer": "ipython3",
   "version": "3.10.4"
  }
 },
 "nbformat": 4,
 "nbformat_minor": 5
}
