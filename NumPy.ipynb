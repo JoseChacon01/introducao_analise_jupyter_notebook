{
 "cells": [
  {
   "cell_type": "markdown",
   "id": "1bb226e7-a06e-4acc-8127-85bfedd0108d",
   "metadata": {},
   "source": [
    "# NumPy"
   ]
  },
  {
   "cell_type": "markdown",
   "id": "bfb1a337-fe0c-4557-ad27-677b3d8c96ed",
   "metadata": {},
   "source": [
    "Numpy = Numerical Python\n",
    "\n",
    "Pacote para operações matemáticas que suportam estatísticas, análise de dados, inteligência artificial, entre outros.\n",
    "- Numpy trabalha com o conceito de array e tem suporte a leitura de datasets;\n",
    "- Disponibiliza diversas funções de cálculos matemáticos e estatísticos;\n",
    "\n",
    "- Site ofocial: https://numpy.org\n",
    "- Instalação: pip install numpy"
   ]
  },
  {
   "cell_type": "markdown",
   "id": "4c4f0666-802a-4b56-965a-72a28ebfab9e",
   "metadata": {},
   "source": [
    "## Array NumPy\n",
    "\n",
    "Nomeclatura oficial: ndarray\n",
    "\n",
    "- 1-D array - array com 1 dimensão: vetor, lista (Um Array é uma lista de dados do mesmo tipo.)\n",
    "- 2-D array - array com 2 dimensões: matriz\n",
    "- 3-D array - array com 3 ou mais dimensões: tensor"
   ]
  },
  {
   "cell_type": "code",
   "execution_count": 3,
   "id": "e8cbc4a4-4517-4173-bd53-f929bd1a24ab",
   "metadata": {},
   "outputs": [],
   "source": [
    "# Importando a biblioteca\n",
    "\n",
    "import numpy as np"
   ]
  },
  {
   "cell_type": "code",
   "execution_count": 4,
   "id": "7f32693f-305b-40fa-9932-69fed0d8e66f",
   "metadata": {},
   "outputs": [
    {
     "name": "stdout",
     "output_type": "stream",
     "text": [
      "[ 2  5  4 23 10 22]\n"
     ]
    }
   ],
   "source": [
    "# Criando um array numpy - função array()\n",
    "\n",
    "array01 = np.array([2,5,4,23,10,22])\n",
    "\n",
    "print(array01)"
   ]
  },
  {
   "cell_type": "code",
   "execution_count": 5,
   "id": "12d41b02-814c-4e42-a6df-b99352732e01",
   "metadata": {},
   "outputs": [
    {
     "name": "stdout",
     "output_type": "stream",
     "text": [
      "<class 'numpy.ndarray'>\n"
     ]
    }
   ],
   "source": [
    "# type() - É uma função para visualizar o tipo do dado\n",
    "print(type(array01))"
   ]
  },
  {
   "cell_type": "markdown",
   "id": "c39b2eb1-812a-4e78-8640-0d8905b88882",
   "metadata": {},
   "source": [
    "# Propriedades"
   ]
  },
  {
   "cell_type": "code",
   "execution_count": 7,
   "id": "725c6605-f3bb-4e07-9b02-f48801bae631",
   "metadata": {},
   "outputs": [
    {
     "name": "stdout",
     "output_type": "stream",
     "text": [
      "int32\n"
     ]
    }
   ],
   "source": [
    "# dtype - Imprime o tipo dos dados do array numpy\n",
    "\n",
    "print(array01.dtype)"
   ]
  },
  {
   "cell_type": "code",
   "execution_count": 8,
   "id": "528124a9-5abf-4c3b-9adf-1e5e78017e95",
   "metadata": {},
   "outputs": [
    {
     "name": "stdout",
     "output_type": "stream",
     "text": [
      "(6,)\n"
     ]
    }
   ],
   "source": [
    "#shape - Dimensão e quantidade de elementos do array Numpy\n",
    "print(array01.shape)"
   ]
  },
  {
   "cell_type": "code",
   "execution_count": 9,
   "id": "c98ca744-9cf8-4647-aeaa-0b8d55cc2eec",
   "metadata": {},
   "outputs": [
    {
     "name": "stdout",
     "output_type": "stream",
     "text": [
      "6\n"
     ]
    }
   ],
   "source": [
    "# size - Quantidade de elementos do array\n",
    "\n",
    "print(array01.size)"
   ]
  },
  {
   "cell_type": "markdown",
   "id": "0b596ba7-2126-471c-a218-51161b8ba329",
   "metadata": {},
   "source": [
    "# Funções"
   ]
  },
  {
   "cell_type": "code",
   "execution_count": 13,
   "id": "6c4a55b7-5502-4b5a-85e6-ef95aca94235",
   "metadata": {},
   "outputs": [
    {
     "name": "stdout",
     "output_type": "stream",
     "text": [
      "[ 2  7 11 34 44 66]\n"
     ]
    }
   ],
   "source": [
    "#Cumsum() - Gera um novo array Numpy com soma acumulada dos elementos\n",
    "\n",
    "array01 = np.array([2,5,4,23,10,22])\n",
    "\n",
    "print(array01.cumsum())"
   ]
  },
  {
   "cell_type": "code",
   "execution_count": 16,
   "id": "4841aab4-12af-4afb-9bf7-e5160e2e479b",
   "metadata": {},
   "outputs": [
    {
     "name": "stdout",
     "output_type": "stream",
     "text": [
      "[0 1 2 3 4 5 6 7 8 9]\n",
      "[2 4 6 8]\n"
     ]
    }
   ],
   "source": [
    "# arange() - \n",
    "array01 = np.arange(10)\n",
    "print(array01)\n",
    "\n",
    "array01 = np.arange(2,10,2)\n",
    "print(array01)"
   ]
  },
  {
   "cell_type": "code",
   "execution_count": 19,
   "id": "86938bd6-efa0-4a93-b181-6ea3f7ed9eba",
   "metadata": {},
   "outputs": [
    {
     "name": "stdout",
     "output_type": "stream",
     "text": [
      "[ 1.  4.  7. 10.]\n"
     ]
    }
   ],
   "source": [
    "'''\n",
    "linspace()- Gera um array numpy que:\n",
    "(1,10,4)\n",
    "\n",
    "1 - Número inicila do intervalo\n",
    "10 - Número final do intervalo\n",
    "4 - Deve preencher um array com 4 elementos deste intervalo com o mesmo espaçamento de elementos entre eles\n",
    "'''\n",
    "\n",
    "array03 = np.linspace(1,10,4)\n",
    "print(array03)"
   ]
  },
  {
   "cell_type": "code",
   "execution_count": 21,
   "id": "c9f7faf9-caf3-4aef-89a7-b1b660b87ca6",
   "metadata": {},
   "outputs": [
    {
     "name": "stdout",
     "output_type": "stream",
     "text": [
      "[False False  True  True]\n"
     ]
    }
   ],
   "source": [
    "# equal() - compara os elementos\n",
    "\n",
    "array04 = np.array([1,4,7,4])\n",
    "array05 = np.array([8,7,7,4])\n",
    "\n",
    "print(np.equal(array04, array05))"
   ]
  },
  {
   "cell_type": "code",
   "execution_count": 22,
   "id": "39d5c982-3006-46da-8a36-8ae292e74fb5",
   "metadata": {},
   "outputs": [
    {
     "name": "stdout",
     "output_type": "stream",
     "text": [
      "False\n"
     ]
    }
   ],
   "source": [
    "# array_equal() compara se o array é igual ao outro\n",
    "\n",
    "array04 = np.array([1,4,7,4])\n",
    "array05 = np.array([8,7,7,4])\n",
    "\n",
    "print(np.array_equal(array04, array05))"
   ]
  },
  {
   "cell_type": "markdown",
   "id": "ca7717f1-51fb-408d-9a8a-7335825ed174",
   "metadata": {},
   "source": [
    "# Slicing de Arrays numpy (fatiamento)"
   ]
  },
  {
   "cell_type": "code",
   "execution_count": 23,
   "id": "6f747e9d-0c8a-48a6-93a7-fc0540c32f5f",
   "metadata": {},
   "outputs": [
    {
     "name": "stdout",
     "output_type": "stream",
     "text": [
      "[ 0  1  2  3  4  5  6  7  8  9 10 11 12 13 14 15 16 17 18 19]\n"
     ]
    }
   ],
   "source": [
    "array06 = np.arange(20)\n",
    "print(array06)"
   ]
  },
  {
   "cell_type": "code",
   "execution_count": 24,
   "id": "7b0f50c9-28e6-4be1-b3e1-6195e4ad9469",
   "metadata": {},
   "outputs": [
    {
     "name": "stdout",
     "output_type": "stream",
     "text": [
      "[ 5  7  9 11 13]\n"
     ]
    }
   ],
   "source": [
    "#Vá da posição 5 até a 15 saltando de 2 em 2\n",
    "print(array06[5:15:2])"
   ]
  },
  {
   "cell_type": "code",
   "execution_count": null,
   "id": "c9eef908-4e08-4ee3-85b9-8bc28d853ff9",
   "metadata": {},
   "outputs": [],
   "source": []
  }
 ],
 "metadata": {
  "kernelspec": {
   "display_name": "Python 3 (ipykernel)",
   "language": "python",
   "name": "python3"
  },
  "language_info": {
   "codemirror_mode": {
    "name": "ipython",
    "version": 3
   },
   "file_extension": ".py",
   "mimetype": "text/x-python",
   "name": "python",
   "nbconvert_exporter": "python",
   "pygments_lexer": "ipython3",
   "version": "3.10.4"
  }
 },
 "nbformat": 4,
 "nbformat_minor": 5
}
