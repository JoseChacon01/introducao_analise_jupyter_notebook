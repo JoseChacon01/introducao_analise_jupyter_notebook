{
  "nbformat": 4,
  "nbformat_minor": 0,
  "metadata": {
    "colab": {
      "provenance": []
    },
    "kernelspec": {
      "name": "python3",
      "display_name": "Python 3"
    },
    "language_info": {
      "name": "python"
    }
  },
  "cells": [
    {
      "cell_type": "markdown",
      "source": [
        "\n",
        "\n",
        "# Atividade 03 - 09/11/23\n",
        "\n"
      ],
      "metadata": {
        "id": "LM3NbCSNFbM_"
      }
    },
    {
      "cell_type": "markdown",
      "source": [
        "Documentação Numpy: https://numpy.org/doc/stable/\n",
        "\n",
        "Enviar este arquivo preenchido com as respostas e o nome do aluno para o e-mail: profbrunorespostas1@gmail.com e assunto: AD2303\n",
        "\n",
        "Prazo: 14/11/23\n",
        "\n",
        "Pontos: 20\n"
      ],
      "metadata": {
        "id": "gNtQvhZ_FgCU"
      }
    },
    {
      "cell_type": "markdown",
      "source": [
        "### Orientações\n",
        "\n",
        "- Usar apenas a biblioteca pandas para responder as questões desta atividade;\n",
        "- Utilizar o dataset disponibilizado no Google Sala de Aula com o título: DATASET - ATIVIDADE PANDAS - 01;\n",
        "- O dataset trata de aparições de ovnis pelo mundo e foi retirado da plataforma Kaggle.\n"
      ],
      "metadata": {
        "id": "e78FHTnMFmLs"
      }
    },
    {
      "cell_type": "code",
      "source": [
        "#Substituir nome do aluno aqui\n",
        "print(\"José Moreira Chacon\")"
      ],
      "metadata": {
        "colab": {
          "base_uri": "https://localhost:8080/"
        },
        "id": "S5TCK0FyF4lr",
        "outputId": "17396cb6-1abd-46a9-81a3-cdb3172a7e4d"
      },
      "execution_count": null,
      "outputs": [
        {
          "output_type": "stream",
          "name": "stdout",
          "text": [
            "José Moreira Chacon\n"
          ]
        }
      ]
    },
    {
      "cell_type": "code",
      "source": [
        "import pandas as pd"
      ],
      "metadata": {
        "id": "dxgG3H-v-Ze9"
      },
      "execution_count": null,
      "outputs": []
    },
    {
      "cell_type": "markdown",
      "source": [
        "### Questão 1\n",
        "\n",
        "Imprimir apenas as 15 primeiras linhas do dataset.\n"
      ],
      "metadata": {
        "id": "mTKrDLSuGUq0"
      }
    },
    {
      "cell_type": "code",
      "source": [
        "\n",
        "# Carregar o arquivo CSV\n",
        "nome_arquivo = 'ufo.csv'\n",
        "dados = pd.read_csv(nome_arquivo)\n",
        "\n",
        "# Imprimir as 15 primeiras linhas\n",
        "print(dados.head(15))\n"
      ],
      "metadata": {
        "colab": {
          "base_uri": "https://localhost:8080/"
        },
        "id": "wAfFEEbaGV5h",
        "outputId": "84e7f5df-f4b0-4ca6-eb35-e29f46c3091f"
      },
      "execution_count": null,
      "outputs": [
        {
          "output_type": "stream",
          "name": "stdout",
          "text": [
            "    Unnamed: 0            Date_time date_documented  Year  Month  Hour  \\\n",
            "0            0  1949-10-10 20:30:00       4/27/2004  1949     10    20   \n",
            "1            1  1949-10-10 21:00:00      12/16/2005  1949     10    21   \n",
            "2            2  1955-10-10 17:00:00       1/21/2008  1955     10    17   \n",
            "3            3  1956-10-10 21:00:00       1/17/2004  1956     10    21   \n",
            "4            4  1960-10-10 20:00:00       1/22/2004  1960     10    20   \n",
            "5            5  1961-10-10 19:00:00       4/27/2007  1961     10    19   \n",
            "6            6  1965-10-10 21:00:00       2/14/2006  1965     10    21   \n",
            "7            7  1965-10-10 23:45:00       10/2/1999  1965     10    23   \n",
            "8            8  1966-10-10 20:00:00       3/19/2009  1966     10    20   \n",
            "9            9  1966-10-10 21:00:00       5/11/2005  1966     10    21   \n",
            "10          10  1968-10-10 13:00:00      10/31/2003  1968     10    13   \n",
            "11          11  1968-10-10 19:00:00       6/12/2008  1968     10    19   \n",
            "12          12  1970-10-10 16:00:00       5/11/2000  1970     10    16   \n",
            "13          13  1970-10-10 19:00:00       2/14/2008  1970     10    19   \n",
            "14          14  1971-10-10 21:00:00       2/14/2010  1971     10    21   \n",
            "\n",
            "    Season Country_Code         Country          Region         Locale  \\\n",
            "0   Autumn          USA   United States           Texas     San Marcos   \n",
            "1   Autumn          USA   United States           Texas   Bexar County   \n",
            "2   Autumn          GBR  United Kingdom         England        Chester   \n",
            "3   Autumn          USA   United States           Texas           Edna   \n",
            "4   Autumn          USA   United States          Hawaii        Kaneohe   \n",
            "5   Autumn          USA   United States       Tennessee        Bristol   \n",
            "6   Autumn          GBR  United Kingdom           Wales        Penarth   \n",
            "7   Autumn          USA   United States     Connecticut        Norwalk   \n",
            "8   Autumn          USA   United States         Alabama     Harrisburg   \n",
            "9   Autumn          USA   United States         Florida       Live Oak   \n",
            "10  Autumn          USA   United States      California      Hawthorne   \n",
            "11  Autumn          USA   United States  North Carolina  Franklin Park   \n",
            "12  Autumn          USA   United States        New York  Nassau County   \n",
            "13  Autumn          USA   United States        Kentucky     Manchester   \n",
            "14  Autumn          USA   United States  North Carolina    South Cecil   \n",
            "\n",
            "     latitude   longitude UFO_shape  length_of_encounter_seconds  \\\n",
            "0   29.883056  -97.941111  Cylinder                       2700.0   \n",
            "1   29.384210  -98.581082     Light                       7200.0   \n",
            "2   53.200000   -2.916667    Circle                         20.0   \n",
            "3   28.978333  -96.645833    Circle                         20.0   \n",
            "4   21.418056 -157.803611     Light                        900.0   \n",
            "5   36.595000  -82.188889    Sphere                        300.0   \n",
            "6   51.434722   -3.180000    Circle                        180.0   \n",
            "7   41.117500  -73.408333      Disk                       1200.0   \n",
            "8   33.586111  -86.286111      Disk                        180.0   \n",
            "9   30.294722  -82.984167      Disk                        120.0   \n",
            "10  33.916389 -118.351667    Circle                        300.0   \n",
            "11  35.233333  -82.734444  Fireball                        180.0   \n",
            "12  40.668611  -73.527500      Disk                       1800.0   \n",
            "13  37.153611  -83.761944   Unknown                        180.0   \n",
            "14  35.823889  -80.253611      Oval                         30.0   \n",
            "\n",
            "   Encounter_Duration                                        Description  \n",
            "0          45 minutes  This event took place in early fall around 194...  \n",
            "1             1-2 hrs  1949 Lackland AFB&#44 TX.  Lights racing acros...  \n",
            "2          20 seconds  Green/Orange circular disc over Chester&#44 En...  \n",
            "3            1/2 hour  My older brother and twin sister were leaving ...  \n",
            "4          15 minutes  AS a Marine 1st Lt. flying an FJ4B fighter/att...  \n",
            "5           5 minutes  My father is now 89 my brother 52 the girl wit...  \n",
            "6        about 3 mins  penarth uk  circle  3mins  stayed 30ft above m...  \n",
            "7          20 minutes  A bright orange color changing to reddish colo...  \n",
            "8          3  minutes  Strobe Lighted disk shape object observed clos...  \n",
            "9     several minutes  Saucer zaps energy from powerline as my pregna...  \n",
            "10             5 min.  ROUND &#44 ORANGE &#44 WITH WHAT I WOULD SAY W...  \n",
            "11          3 minutes  silent red /orange mass of energy floated by t...  \n",
            "12            30 min.           silver disc seen by family and neighbors  \n",
            "13          3 minutes  Slow moving&#44 silent craft accelerated at an...  \n",
            "14         30 seconds  green oval shaped light over my local church&#...  \n"
          ]
        }
      ]
    },
    {
      "cell_type": "markdown",
      "source": [
        "### Questão 2\n",
        "\n",
        "Imprimir apenas as aparições que ocorreram no ano de 2014.\n"
      ],
      "metadata": {
        "id": "g29Ct5Q8IlO4"
      }
    },
    {
      "cell_type": "code",
      "source": [
        "# Carregando o arquivo CSV\n",
        "df = pd.read_csv('ufo.csv')\n",
        "\n",
        "# Filtrando as aparições que ocorreram em 2014\n",
        "aparicoes_2014 = df[df.iloc[:, 3] == 2014]\n",
        "\n",
        "print(aparicoes_2014)"
      ],
      "metadata": {
        "colab": {
          "base_uri": "https://localhost:8080/"
        },
        "id": "bS8jyZSPIkgX",
        "outputId": "951bab59-bb78-4669-ee21-e2e8fb0b07b3"
      },
      "execution_count": null,
      "outputs": [
        {
          "output_type": "stream",
          "name": "stdout",
          "text": [
            "       Unnamed: 0            Date_time date_documented  Year  Month  Hour  \\\n",
            "7612         7612  2014-01-10 06:00:00       1/16/2014  2014      1     6   \n",
            "7613         7613  2014-01-10 06:15:00       1/16/2014  2014      1     6   \n",
            "7614         7614  2014-01-10 06:30:00       1/10/2014  2014      1     6   \n",
            "7615         7615  2014-01-10 09:57:00       2/14/2014  2014      1     9   \n",
            "7616         7616  2014-01-10 16:30:00       1/16/2014  2014      1    16   \n",
            "...           ...                  ...             ...   ...    ...   ...   \n",
            "46150       46150  2014-05-07 21:10:00        5/8/2014  2014      5    21   \n",
            "46151       46151  2014-05-07 21:20:00        5/8/2014  2014      5    21   \n",
            "46152       46152  2014-05-07 23:30:00        5/8/2014  2014      5    23   \n",
            "46298       46298  2014-05-08 00:00:00        5/8/2014  2014      5     0   \n",
            "46299       46299  2014-05-08 18:45:00        5/8/2014  2014      5    18   \n",
            "\n",
            "       Season Country_Code         Country       Region             Locale  \\\n",
            "7612   Winter          USA   United States   California          Placentia   \n",
            "7613   Winter          USA   United States        Texas            El Paso   \n",
            "7614   Winter          USA   United States     Colorado         Coal Creek   \n",
            "7615   Winter          USA   United States  Connecticut          Parkville   \n",
            "7616   Winter          GBR  United Kingdom      England         Barrowford   \n",
            "...       ...          ...             ...          ...                ...   \n",
            "46150  Spring          USA   United States  Connecticut          Naugatuck   \n",
            "46151  Spring          USA   United States     Missouri          Hillsboro   \n",
            "46152  Spring          USA   United States   New Mexico         San Ysidro   \n",
            "46298  Spring          USA   United States    Tennessee  Lauderdale Courts   \n",
            "46299  Spring          AUS       Australia     Victoria          Inverloch   \n",
            "\n",
            "        latitude   longitude  UFO_shape  length_of_encounter_seconds  \\\n",
            "7612   33.872222 -117.869444  Rectangle                         60.0   \n",
            "7613   31.758611 -106.486389     Circle                        120.0   \n",
            "7614   38.361111 -105.147778     Sphere                       1200.0   \n",
            "7615   41.763611  -72.685556      Flash                        120.0   \n",
            "7616   53.845000   -2.204000      Light                        900.0   \n",
            "...          ...         ...        ...                          ...   \n",
            "46150  41.485833  -73.051111    Unknown                        300.0   \n",
            "46151  38.232222  -90.562778   Fireball                        360.0   \n",
            "46152  35.563363 -106.770591    Unknown                         15.0   \n",
            "46298  35.149444  -90.048889  Rectangle                        900.0   \n",
            "46299 -38.626591  145.722595      Light                        300.0   \n",
            "\n",
            "      Encounter_Duration                                        Description  \n",
            "7612           ~1 minute  EXTRATERRESTRIAL MULTICOLOR SPACECRAFT OVER GO...  \n",
            "7613          ~2 minutes  Single round&#44 reddish yellowish&#44 greenis...  \n",
            "7614          20 minutes  Large&#44 yellowish white reflective sphere wi...  \n",
            "7615            2 minute  ((HOAX??)) While i was watching a movie a whit...  \n",
            "7616          15 minutes  A light hovered down the hill at a ridiculous ...  \n",
            "...                  ...                                                ...  \n",
            "46150          5 minutes  Large formation of lights in western sky&#44 f...  \n",
            "46151        4-6 minutes  Round slow moving silent ball looked like a ca...  \n",
            "46152         15 seconds  2 red lights gliding across sky&#44 then green...  \n",
            "46298         15 minutes  Standing at my window around 0:00 brilliantly ...  \n",
            "46299          5 minutes  Bright orange light travelling above inverloch...  \n",
            "\n",
            "[2260 rows x 17 columns]\n"
          ]
        }
      ]
    },
    {
      "cell_type": "markdown",
      "source": [
        "### Questão 3\n",
        "\n",
        "Imprimir apenas as aparições que ocorreram no ano de 2011 e no Brasil (Country_Code)"
      ],
      "metadata": {
        "id": "YfWndcTRLvBS"
      }
    },
    {
      "cell_type": "code",
      "source": [
        "df = pd.read_csv('ufo.csv')\n",
        "\n",
        "# Filtrando as aparições que ocorreram em 2011 e no Brasil\n",
        "aparicoes_2011_brasil = df[(df.iloc[:, 3] == 2011) & (df.iloc[:, 8] == 'Brazil')]\n",
        "\n",
        "print(aparicoes_2011_brasil)"
      ],
      "metadata": {
        "colab": {
          "base_uri": "https://localhost:8080/"
        },
        "id": "5SnY51lZLv6l",
        "outputId": "26203d88-2571-45db-9891-e945a692b225"
      },
      "execution_count": null,
      "outputs": [
        {
          "output_type": "stream",
          "name": "stdout",
          "text": [
            "       Unnamed: 0            Date_time date_documented  Year  Month  Hour  \\\n",
            "45777       45777  2011-05-05 23:50:00       5/12/2011  2011      5    23   \n",
            "51551       51551  2011-06-24 02:00:00       6/27/2011  2011      6     2   \n",
            "59303       59303  2011-07-23 18:00:00       5/15/2013  2011      7    18   \n",
            "\n",
            "       Season Country_Code Country             Region          Locale  \\\n",
            "45777  Spring          BRA  Brazil  Rio Grande do Sul   Dom Feliciano   \n",
            "51551  Summer          BRA  Brazil            Alagoas          Maceió   \n",
            "59303  Summer          BRA  Brazil          São Paulo  Embu das Artes   \n",
            "\n",
            "        latitude  longitude UFO_shape  length_of_encounter_seconds  \\\n",
            "45777 -30.701054 -52.106879     Light                         60.0   \n",
            "51551  -9.649849 -35.708949      Oval                       1800.0   \n",
            "59303 -23.651508 -46.852186    Circle                      36000.0   \n",
            "\n",
            "      Encounter_Duration                                        Description  \n",
            "45777           1 minute  On 05/05/2011 at exactly 23 hours and 53 minut...  \n",
            "51551          15-30 min  They were flying over the sea&#44 in various d...  \n",
            "59303           10 hours  Brazil UFO televised explanation thousands of ...  \n"
          ]
        }
      ]
    },
    {
      "cell_type": "markdown",
      "source": [
        "###TESTE DE VERIFICAÇÃO\n"
      ],
      "metadata": {
        "id": "QjaAF9E0-Nr3"
      }
    },
    {
      "cell_type": "code",
      "source": [
        "#============IMPRIMINDO DADOS DE UMA COLUNA ESPECIFICA====================\n",
        "nome_arquivo = 'ufo.csv'\n",
        "dados = pd.read_csv(nome_arquivo)\n",
        "\n",
        "print(dados.iloc[:, 13])"
      ],
      "metadata": {
        "colab": {
          "base_uri": "https://localhost:8080/"
        },
        "id": "4cpVzCU4-RLl",
        "outputId": "77601516-e715-4e26-9db4-57c06d4000fa"
      },
      "execution_count": null,
      "outputs": [
        {
          "output_type": "stream",
          "name": "stdout",
          "text": [
            "0        Cylinder\n",
            "1           Light\n",
            "2          Circle\n",
            "3          Circle\n",
            "4           Light\n",
            "           ...   \n",
            "80323       Light\n",
            "80324      Circle\n",
            "80325       Other\n",
            "80326      Circle\n",
            "80327       Cigar\n",
            "Name: UFO_shape, Length: 80328, dtype: object\n"
          ]
        }
      ]
    },
    {
      "cell_type": "markdown",
      "source": [
        "### Questão 4\n",
        "\n",
        "Imprimir as aparições que ocorreram no Estado do Rio Grande do Norte ou da Paraíba (Region)."
      ],
      "metadata": {
        "id": "a0PvWprJ-fRZ"
      }
    },
    {
      "cell_type": "code",
      "source": [
        "df = pd.read_csv('ufo.csv')\n",
        "\n",
        "# Filtrando as aparições\n",
        "estados_interessantes = ['Rio Grande do Norte', 'Paraíba']\n",
        "aparicoes_rn_pb = df[df.iloc[:, 9].isin(estados_interessantes)]\n",
        "\n",
        "print(aparicoes_rn_pb)"
      ],
      "metadata": {
        "colab": {
          "base_uri": "https://localhost:8080/"
        },
        "id": "gq6pdv9L--sJ",
        "outputId": "54c8e1b3-8f7c-4dcb-cd9c-7ec68a04a49d"
      },
      "execution_count": null,
      "outputs": [
        {
          "output_type": "stream",
          "name": "stdout",
          "text": [
            "       Unnamed: 0            Date_time date_documented  Year  Month  Hour  \\\n",
            "16094       16094  2007-01-18 23:50:00       2/24/2007  2007      1    23   \n",
            "33313       33313  2007-03-24 22:45:00       4/27/2007  2007      3    22   \n",
            "\n",
            "       Season Country_Code Country   Region       Locale  latitude  longitude  \\\n",
            "16094  Winter          BRA  Brazil  Paraíba  João Pessoa -7.119496 -34.845012   \n",
            "33313  Spring          BRA  Brazil  Paraíba  João Pessoa -7.119496 -34.845012   \n",
            "\n",
            "      UFO_shape  length_of_encounter_seconds Encounter_Duration  \\\n",
            "16094  Triangle                         20.0         20 seconds   \n",
            "33313     Cross                         60.0      1 min or less   \n",
            "\n",
            "                                             Description  \n",
            "16094  Woman witnesses peculiar triangular craft move...  \n",
            "33313         2 amber orange cross-shaped flying objects  \n"
          ]
        }
      ]
    },
    {
      "cell_type": "markdown",
      "source": [
        "### Questão 5\n",
        "\n",
        "Imprimir as aparições que ocorreram entre os anos de 2000 e 2014 nos Estados Unidos."
      ],
      "metadata": {
        "id": "F6uOAb6aCBaN"
      }
    },
    {
      "cell_type": "code",
      "source": [
        "df = pd.read_csv('ufo.csv')\n",
        "\n",
        "# Filtrando as aparições\n",
        "aparicoes_usa_2000_2014 = df[(df.iloc[:, 3].between(2000, 2014)) & (df.iloc[:, 8] == 'United States')]\n",
        "\n",
        "print(aparicoes_usa_2000_2014)\n"
      ],
      "metadata": {
        "colab": {
          "base_uri": "https://localhost:8080/"
        },
        "id": "szUK2qCCC0Dd",
        "outputId": "65b5522e-0c34-4458-c340-19d467e7ae73"
      },
      "execution_count": null,
      "outputs": [
        {
          "output_type": "stream",
          "name": "stdout",
          "text": [
            "       Unnamed: 0            Date_time date_documented  Year  Month  Hour  \\\n",
            "93             93  2000-10-10 03:00:00       12/2/2000  2000     10     3   \n",
            "94             94  2000-10-10 06:15:00       12/2/2000  2000     10     6   \n",
            "96             96  2000-10-10 16:00:00       12/2/2000  2000     10    16   \n",
            "97             97  2000-10-10 20:20:00       12/2/2000  2000     10    20   \n",
            "98             98  2000-10-10 20:30:00       12/2/2000  2000     10    20   \n",
            "...           ...                  ...             ...   ...    ...   ...   \n",
            "80323       80323  2013-09-09 21:15:00       9/30/2013  2013      9    21   \n",
            "80324       80324  2013-09-09 22:00:00       9/30/2013  2013      9    22   \n",
            "80325       80325  2013-09-09 22:00:00       9/30/2013  2013      9    22   \n",
            "80326       80326  2013-09-09 22:20:00       9/30/2013  2013      9    22   \n",
            "80327       80327  2013-09-09 23:00:00       9/30/2013  2013      9    23   \n",
            "\n",
            "       Season Country_Code        Country      Region         Locale  \\\n",
            "93     Autumn          USA  United States    Missouri     Perryville   \n",
            "94     Autumn          USA  United States     Florida  Boynton Beach   \n",
            "96     Autumn          USA  United States   Wisconsin         Juneau   \n",
            "97     Autumn          USA  United States    Missouri    Saint Louis   \n",
            "98     Autumn          USA  United States    Missouri      Brinktown   \n",
            "...       ...          ...            ...         ...            ...   \n",
            "80323  Autumn          USA  United States   Tennessee      Nashville   \n",
            "80324  Autumn          USA  United States       Idaho          Boise   \n",
            "80325  Autumn          USA  United States  California     Napa Abajo   \n",
            "80326  Autumn          USA  United States    Virginia         Vienna   \n",
            "80327  Autumn          USA  United States    Oklahoma         Edmond   \n",
            "\n",
            "        latitude   longitude UFO_shape  length_of_encounter_seconds  \\\n",
            "93     37.724167  -89.861111      Oval                        180.0   \n",
            "94     26.525000  -80.066667     Other                         10.0   \n",
            "96     43.405550  -88.705104  Triangle                         45.0   \n",
            "97     38.627003  -90.199404      Oval                         15.0   \n",
            "98     38.126667  -92.084444     Light                       1800.0   \n",
            "...          ...         ...       ...                          ...   \n",
            "80323  36.165833  -86.784444     Light                        600.0   \n",
            "80324  43.613611 -116.202500    Circle                       1200.0   \n",
            "80325  38.297222 -122.284444     Other                       1200.0   \n",
            "80326  38.901111  -77.265556    Circle                          5.0   \n",
            "80327  35.652778  -97.477778     Cigar                       1020.0   \n",
            "\n",
            "      Encounter_Duration                                        Description  \n",
            "93             3 minutes  The craft was big&#44 orange&#44 and oval shaped.  \n",
            "94            10 seconds  Unusual light formation moving extremely fast ...  \n",
            "96            45 seconds                             5 bight light V shaped  \n",
            "97            15 seconds  Driving on Hyw.141 at Hyw. 44 and going East&#...  \n",
            "98               30 min.  3 bright golden lights moving independently ab...  \n",
            "...                  ...                                                ...  \n",
            "80323         10 minutes  Round from the distance/slowly changing colors...  \n",
            "80324         20 minutes  Boise&#44 ID&#44 spherical&#44 20 min&#44 10 r...  \n",
            "80325               hour                                       Napa UFO&#44  \n",
            "80326          5 seconds  Saw a five gold lit cicular craft moving fastl...  \n",
            "80327         17 minutes  2 witnesses 2  miles apart&#44 Red &amp; White...  \n",
            "\n",
            "[57059 rows x 17 columns]\n"
          ]
        }
      ]
    },
    {
      "cell_type": "markdown",
      "source": [
        "### Questão 6\n",
        "\n",
        "Imprimir todas aparições que ocorreram no ano de 2010 e que não foram no formato de Triângulo (UFO_shape)"
      ],
      "metadata": {
        "id": "Pgee5mcERkpZ"
      }
    },
    {
      "cell_type": "code",
      "source": [
        "df = pd.read_csv('ufo.csv')\n",
        "\n",
        "# Filtrando as aparições\n",
        "aparicoes_2010_nao_triangle = df[(df.iloc[:, 3] == 2010) & (df.iloc[:, 13] != 'Triangle')]\n",
        "\n",
        "print(aparicoes_2010_nao_triangle)"
      ],
      "metadata": {
        "colab": {
          "base_uri": "https://localhost:8080/"
        },
        "id": "vrMx6K_SRpWK",
        "outputId": "f2bc9fc7-4f9d-49ee-bcc7-1d2c567905d7"
      },
      "execution_count": null,
      "outputs": [
        {
          "output_type": "stream",
          "name": "stdout",
          "text": [
            "       Unnamed: 0            Date_time date_documented  Year  Month  Hour  \\\n",
            "212           212  2010-10-10 01:00:00        1/5/2011  2010     10     1   \n",
            "213           213  2010-10-10 02:30:00      11/21/2010  2010     10     2   \n",
            "214           214  2010-10-10 03:00:00      11/21/2010  2010     10     3   \n",
            "215           215  2010-10-10 08:30:00      11/21/2010  2010     10     8   \n",
            "216           216  2010-10-10 12:00:00      11/21/2010  2010     10    12   \n",
            "...           ...                  ...             ...   ...    ...   ...   \n",
            "80265       80265  2010-09-09 21:30:00      11/21/2010  2010      9    21   \n",
            "80266       80266  2010-09-09 22:00:00      11/21/2010  2010      9    22   \n",
            "80267       80267  2010-09-09 22:00:00      11/21/2010  2010      9    22   \n",
            "80268       80268  2010-09-09 22:00:00      11/21/2010  2010      9    22   \n",
            "80269       80269  2010-09-09 23:19:00      11/21/2010  2010      9    23   \n",
            "\n",
            "       Season Country_Code        Country          Region  \\\n",
            "212    Autumn          USA  United States        New York   \n",
            "213    Autumn          USA  United States    Pennsylvania   \n",
            "214    Autumn          USA  United States            Ohio   \n",
            "215    Autumn          USA  United States  South Carolina   \n",
            "216    Autumn          USA  United States     Connecticut   \n",
            "...       ...          ...            ...             ...   \n",
            "80265  Autumn          USA  United States        Michigan   \n",
            "80266  Autumn          USA  United States         Florida   \n",
            "80267  Autumn          USA  United States         Florida   \n",
            "80268  Autumn          USA  United States      New Mexico   \n",
            "80269  Autumn          USA  United States      California   \n",
            "\n",
            "                        Locale   latitude   longitude  UFO_shape  \\\n",
            "212    Village of Orchard Park  42.767500  -78.744167      Light   \n",
            "213           Hillside Village  40.273611  -76.884722     Circle   \n",
            "214                     Euclid  41.593056  -81.526944     Circle   \n",
            "215                      Starr  34.376944  -82.695833  Formation   \n",
            "216                  Greenwich  41.026389  -73.628889      Light   \n",
            "...                        ...        ...         ...        ...   \n",
            "80265                 Brighton  42.529444  -83.780278   Changing   \n",
            "80266              Gainesville  29.651389  -82.325000       Oval   \n",
            "80267              Gainesville  29.651389  -82.325000       Oval   \n",
            "80268                  Lemitar  34.159722 -106.909722   Fireball   \n",
            "80269            North Ontario  34.097500 -117.647500     Circle   \n",
            "\n",
            "       length_of_encounter_seconds Encounter_Duration  \\\n",
            "212                         7200.0        a few hours   \n",
            "213                          240.0         4  minutes   \n",
            "214                          180.0          3 minutes   \n",
            "215                          600.0          5-10 mins   \n",
            "216                          240.0             4 mins   \n",
            "...                            ...                ...   \n",
            "80265                        300.0        3-5 minutes   \n",
            "80266                       2700.0             45 min   \n",
            "80267                       7200.0             2+ hrs   \n",
            "80268                        300.0        3 to 5 mins   \n",
            "80269                        300.0            3-5 min   \n",
            "\n",
            "                                             Description  \n",
            "212    Xmas colored rotating lights.  ((NUFORC Note: ...  \n",
            "213                                possible UFO sighting  \n",
            "214    2 objects blinking red and white&#44 disappear...  \n",
            "215               Strange orange lights in the night sky  \n",
            "216    &quot;Star&quot; like objects during clear day...  \n",
            "...                                                  ...  \n",
            "80265  Glittery random lights near each other&#44 rea...  \n",
            "80266  2nd night watching the objects&#44 approximate...  \n",
            "80267  Multiple sightings by multiple whitnesses&#44 ...  \n",
            "80268  orange lights in the southeastern sky in New M...  \n",
            "80269  It appeared to be an orange round object movin...  \n",
            "\n",
            "[3879 rows x 17 columns]\n"
          ]
        }
      ]
    },
    {
      "cell_type": "markdown",
      "source": [
        "### Questão 7\n",
        "\n",
        "Imprimir as aparições que ocorreram entre as datas 01/01/2011 e 30/07/2011 (utilizando a coluna Date_time).\n",
        "\n",
        "Obs.: Pesquisar como converter os textos da coluna Date_time para o formato correto de data no Pandas, para que se possa realizar os cálculos."
      ],
      "metadata": {
        "id": "zvfaPpqzdcri"
      }
    },
    {
      "cell_type": "code",
      "source": [
        "\n",
        "df = pd.read_csv('ufo.csv')\n",
        "\n",
        "# Convertendo a coluna Date_time para o formato de data\n",
        "df['Date_time'] = pd.to_datetime(df['Date_time'], errors='coerce')\n",
        "\n",
        "# Filtrando as aparições que ocorreram entre 01/01/2011 e 30/07/2011\n",
        "inicio_data = pd.to_datetime('2011-01-01')\n",
        "fim_data = pd.to_datetime('2011-07-30')\n",
        "aparicoes_entre_datas = df[(df['Date_time'] >= inicio_data) & (df['Date_time'] <= fim_data)]\n",
        "\n",
        "\n",
        "print(aparicoes_entre_datas)"
      ],
      "metadata": {
        "colab": {
          "base_uri": "https://localhost:8080/"
        },
        "id": "9lSgPuN7dXTh",
        "outputId": "564cb9fb-3c3a-4965-8827-5f348e6236bf"
      },
      "execution_count": null,
      "outputs": [
        {
          "output_type": "stream",
          "name": "stdout",
          "text": [
            "       Unnamed: 0           Date_time date_documented  Year  Month  Hour  \\\n",
            "7577         7577 2011-01-10 05:30:00       1/31/2011  2011      1     5   \n",
            "7578         7578 2011-01-10 07:00:00       1/31/2011  2011      1     7   \n",
            "7579         7579 2011-01-10 09:45:00       1/31/2011  2011      1     9   \n",
            "7580         7580 2011-01-10 11:10:00      10/10/2011  2011      1    11   \n",
            "7581         7581 2011-01-10 17:15:00       1/31/2011  2011      1    17   \n",
            "...           ...                 ...             ...   ...    ...   ...   \n",
            "64067       64067 2011-07-09 22:30:00       1/12/2012  2011      7    22   \n",
            "64068       64068 2011-07-09 22:30:00       7/17/2011  2011      7    22   \n",
            "64069       64069 2011-07-09 22:45:00       7/17/2011  2011      7    22   \n",
            "64070       64070 2011-07-09 22:53:00       7/17/2011  2011      7    22   \n",
            "64071       64071 2011-07-09 23:00:00       7/17/2011  2011      7    23   \n",
            "\n",
            "       Season Country_Code         Country           Region           Locale  \\\n",
            "7577   Winter          USA   United States       California          O'Neals   \n",
            "7578   Winter          USA   United States         Illinois          Kinsman   \n",
            "7579   Winter          USA   United States       California        San Diego   \n",
            "7580   Winter          GBR  United Kingdom          England         Wichling   \n",
            "7581   Winter          AUS       Australia  New South Wales           Sydney   \n",
            "...       ...          ...             ...              ...              ...   \n",
            "64067  Summer          USA   United States          Montana            Butte   \n",
            "64068  Summer          USA   United States       California     San Fernando   \n",
            "64069  Summer          USA   United States         Missouri      West Joplin   \n",
            "64070  Summer          USA   United States          Indiana    Columbia City   \n",
            "64071  Summer          USA   United States        Wisconsin  Wisconsin Dells   \n",
            "\n",
            "        latitude   longitude  UFO_shape  length_of_encounter_seconds  \\\n",
            "7577   37.128333 -119.693333      Light                        180.0   \n",
            "7578   41.189722  -88.569444  Rectangle                          2.0   \n",
            "7579   32.915556 -117.143056   Cylinder                        900.0   \n",
            "7580   51.250000    0.750000       Disk                        300.0   \n",
            "7581  -33.861481  151.205475      Light                         10.0   \n",
            "...          ...         ...        ...                          ...   \n",
            "64067  46.003889 -112.533889      Other                        600.0   \n",
            "64068  34.281944 -118.438056       Oval                          2.0   \n",
            "64069  37.084167  -94.513056      Light                        120.0   \n",
            "64070  41.157222  -85.488333      Light                         60.0   \n",
            "64071  43.627500  -89.770833     Sphere                          7.0   \n",
            "\n",
            "           Encounter_Duration  \\\n",
            "7577                3 minutes   \n",
            "7578                  seconds   \n",
            "7579                  15 mins   \n",
            "7580                5 minutes   \n",
            "7581               10 seconds   \n",
            "...                       ...   \n",
            "64067                  10 min   \n",
            "64068                   2 sec   \n",
            "64069             1-2 minutes   \n",
            "64070  approximately 1 minute   \n",
            "64071               7 seconds   \n",
            "\n",
            "                                             Description  \n",
            "7577   Solid white light spotted at dusk&#44 flying a...  \n",
            "7578   Black square/rectangular 3 dimensional object ...  \n",
            "7579            Cylindrical object in sky over Mira Mesa  \n",
            "7580   The area it went into a vertical climb was whe...  \n",
            "7581         white lights dipping&#44 diving over Sydney  \n",
            "...                                                  ...  \n",
            "64067             The Richest Hill on Earth gets scanned  \n",
            "64068  WHITE LIGHT OVER SAN FERNANDO EXPLODES WHILE M...  \n",
            "64069             Orange ball moving above Joplin&#44 MO  \n",
            "64070  a light appeared and slowly moved with a zigza...  \n",
            "64071  5 orange orbs headind north at a good clip&#44...  \n",
            "\n",
            "[2469 rows x 17 columns]\n"
          ]
        }
      ]
    },
    {
      "cell_type": "markdown",
      "source": [
        "### Questão 8\n",
        "\n",
        "Imprimir a quantidade de aparições que ocorreram por cada país.\n",
        "\n",
        "Obs.: Pesquisar sobre agrupamento através da função groupby() e como contar através da função count()."
      ],
      "metadata": {
        "id": "E59wNSiLdlOB"
      }
    },
    {
      "cell_type": "code",
      "source": [
        "df = pd.read_csv('ufo.csv')\n",
        "\n",
        "# Agrupando por país e contando as aparições em cada grupo\n",
        "contagem_por_pais = df.groupby(df.iloc[:, 8]).size().reset_index(name='Quantidade')\n",
        "\n",
        "# Imprimindo a contagem por país\n",
        "print(contagem_por_pais)"
      ],
      "metadata": {
        "colab": {
          "base_uri": "https://localhost:8080/"
        },
        "id": "n2dH3SVUdq5n",
        "outputId": "9045d3bf-1365-4e54-c69f-a87abcc8bdf2"
      },
      "execution_count": null,
      "outputs": [
        {
          "output_type": "stream",
          "name": "stdout",
          "text": [
            "         Country  Quantidade\n",
            "0    Afghanistan          11\n",
            "1        Albania           2\n",
            "2        Algeria           1\n",
            "3      Argentina          23\n",
            "4        Armenia           3\n",
            "..           ...         ...\n",
            "146   Uzbekistan           3\n",
            "147    Venezuela          26\n",
            "148      Vietnam          20\n",
            "149       Zambia           2\n",
            "150     Zimbabwe           7\n",
            "\n",
            "[151 rows x 2 columns]\n"
          ]
        }
      ]
    },
    {
      "cell_type": "markdown",
      "source": [
        "### Questão 9\n",
        "\n",
        "Utilizando a questão anterior, imprimir ordenando do país com maior aparições para o com menor."
      ],
      "metadata": {
        "id": "Sk5s_qUwdvw9"
      }
    },
    {
      "cell_type": "code",
      "source": [
        "# Ordenação\n",
        "contagem_por_pais = contagem_por_pais.sort_values(by='Quantidade', ascending=False)\n",
        "\n",
        "# Imprimindo a contagem ordenada\n",
        "print(contagem_por_pais)"
      ],
      "metadata": {
        "colab": {
          "base_uri": "https://localhost:8080/"
        },
        "id": "AAXwAeFPd2Xw",
        "outputId": "c7488c9c-75fe-46e2-8ef1-8fca2b2e528f"
      },
      "execution_count": null,
      "outputs": [
        {
          "output_type": "stream",
          "name": "stdout",
          "text": [
            "                   Country  Quantidade\n",
            "144          United States       70878\n",
            "24                  Canada        3592\n",
            "143         United Kingdom        2348\n",
            "5                Australia         630\n",
            "60                   India         226\n",
            "..                     ...         ...\n",
            "132               Tanzania           1\n",
            "103       Papua New Guinea           1\n",
            "130  São Tomé and Príncipe           1\n",
            "25              Cape Verde           1\n",
            "135                  Tonga           1\n",
            "\n",
            "[151 rows x 2 columns]\n"
          ]
        }
      ]
    },
    {
      "cell_type": "markdown",
      "source": [
        "### Questão 10\n",
        "\n",
        "Utilizando a questão anterior, retornar apenas os 5 países com as maiores quantidades de aparições."
      ],
      "metadata": {
        "id": "Onc0ofg6d2uG"
      }
    },
    {
      "cell_type": "code",
      "source": [
        "# Retornando os 5 países com as maiores quantidades de aparições\n",
        "top5_paises = contagem_por_pais.head(5)\n",
        "\n",
        "\n",
        "print(top5_paises)"
      ],
      "metadata": {
        "colab": {
          "base_uri": "https://localhost:8080/"
        },
        "id": "McZkCvRcd7xg",
        "outputId": "7a52164c-c71b-403b-a06c-17b485dd8791"
      },
      "execution_count": null,
      "outputs": [
        {
          "output_type": "stream",
          "name": "stdout",
          "text": [
            "            Country  Quantidade\n",
            "144   United States       70878\n",
            "24           Canada        3592\n",
            "143  United Kingdom        2348\n",
            "5         Australia         630\n",
            "60            India         226\n"
          ]
        }
      ]
    }
  ]
}