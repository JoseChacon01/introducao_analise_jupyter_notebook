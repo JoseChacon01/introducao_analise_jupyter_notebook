{
 "cells": [
  {
   "cell_type": "markdown",
   "id": "63bb187b-6d8e-4f11-88c8-843ede62941f",
   "metadata": {},
   "source": [
    "# Dicionário de Dados"
   ]
  },
  {
   "cell_type": "markdown",
   "id": "951d082d-15ed-4c86-90fe-29d2f1685e2a",
   "metadata": {},
   "source": [
    "Estrutura que permite armazenar o conceito de chave e valor\n",
    "\n",
    "-Cada posição do dicionario possui uma chave e um valor correspondente\n",
    "-É ciado através de chaves {}"
   ]
  },
  {
   "cell_type": "code",
   "execution_count": 1,
   "id": "ab340ca3-af64-40cd-9965-002dad2456b6",
   "metadata": {},
   "outputs": [],
   "source": [
    "# Criando um dicionário de dados\n",
    "\n",
    "dicionario1 = {\n",
    "    \"chave1\":\"valor1\",\n",
    "    \"chave2\":\"valor2\"\n",
    "}"
   ]
  },
  {
   "cell_type": "code",
   "execution_count": null,
   "id": "065c843c-8f43-4835-a478-3d85f6ece678",
   "metadata": {},
   "outputs": [],
   "source": [
    "# Dicionario pode ter chaves e valores de diferentes tipos\n",
    "\n",
    "dicionario2 = {\n",
    "    \"nota1\":10,\n",
    "    \"nota2\":20\n",
    "}"
   ]
  },
  {
   "cell_type": "code",
   "execution_count": 4,
   "id": "adf791b8-e3ee-45c5-b235-c6d77d6a82bd",
   "metadata": {},
   "outputs": [
    {
     "name": "stdout",
     "output_type": "stream",
     "text": [
      "valor1\n"
     ]
    }
   ],
   "source": [
    "# Para acessar o valor de um dicionário é necessario utilizar colchetes e a chave.\n",
    "\n",
    "dicionario1 = {\n",
    "    \"chave1\":\"valor1\",\n",
    "    \"chave2\":\"valor2\"\n",
    "}\n",
    "\n",
    "print(dicionario1[\"chave1\"])"
   ]
  },
  {
   "cell_type": "code",
   "execution_count": 7,
   "id": "5f632a5a-06fb-4c41-8bba-9d176729652a",
   "metadata": {},
   "outputs": [
    {
     "name": "stdout",
     "output_type": "stream",
     "text": [
      "valor3\n"
     ]
    }
   ],
   "source": [
    "# Criar um dicionario vazio e adicionar um valor manualmente\n",
    "\n",
    "dicionario3 = {}\n",
    "\n",
    "dicionario3[\"nota1\"] = 20\n",
    "dicionario3[\"nota2\"] = 50\n",
    "\n",
    "dicionario3[\"chave3\"] = \"valor3\"\n",
    "\n",
    "print(dicionario3[\"chave3\"])"
   ]
  },
  {
   "cell_type": "code",
   "execution_count": 8,
   "id": "13fa294c-ab35-41c1-aa46-d6fb6a02f253",
   "metadata": {},
   "outputs": [
    {
     "name": "stdout",
     "output_type": "stream",
     "text": [
      "3\n"
     ]
    }
   ],
   "source": [
    "# Tamanho de um dicionario - len ()\n",
    "\n",
    "dicionario1 = {\n",
    "    \"chave1\":\"valor1\",\n",
    "    \"chave2\":\"valor2\",\n",
    "    \"chave3\":\"valor3\"\n",
    "}\n",
    "\n",
    "print(len(dicionario1))"
   ]
  },
  {
   "cell_type": "code",
   "execution_count": 9,
   "id": "641802a2-4584-4729-a3f7-8276115bea91",
   "metadata": {},
   "outputs": [
    {
     "name": "stdout",
     "output_type": "stream",
     "text": [
      "{}\n"
     ]
    }
   ],
   "source": [
    "# Zerar um dicionario - clear()\n",
    "\n",
    "dicionario1 = {\n",
    "    \"chave1\":\"valor1\",\n",
    "    \"chave2\":\"valor2\",\n",
    "    \"chave3\":\"valor3\"\n",
    "}\n",
    "\n",
    "dicionario1.clear()\n",
    "print(dicionario1)"
   ]
  },
  {
   "cell_type": "code",
   "execution_count": 15,
   "id": "15ff8291-7042-419b-9c96-087f45ff5036",
   "metadata": {},
   "outputs": [
    {
     "name": "stdout",
     "output_type": "stream",
     "text": [
      "dict_keys(['chave1', 'chave2', 'chave3'])\n",
      "chave1\n"
     ]
    }
   ],
   "source": [
    "# Acessando todas as chaves de um dicionario - keys()\n",
    "\n",
    "dicionario8 = {\n",
    "    \"chave1\":\"valor1\",\n",
    "    \"chave2\":\"valor2\",\n",
    "    \"chave3\":\"valor3\"\n",
    "}\n",
    "\n",
    "print(dicionario8.keys()) #Retorna a lista\n",
    "print(list(dicionario8.keys())[0])\n",
    "\n"
   ]
  },
  {
   "cell_type": "code",
   "execution_count": 16,
   "id": "e35d6ba7-38bb-4eae-b9b8-b1e3878229cd",
   "metadata": {},
   "outputs": [
    {
     "name": "stdout",
     "output_type": "stream",
     "text": [
      "dict_values(['valor1', 'valor2', 'valor3'])\n"
     ]
    }
   ],
   "source": [
    "# Acessando os valores - Values()\n",
    "\n",
    "print(dicionario8.values())"
   ]
  },
  {
   "cell_type": "code",
   "execution_count": 17,
   "id": "5eaa92a3-04a8-4efb-a8d8-dbc8b905a2ab",
   "metadata": {},
   "outputs": [
    {
     "name": "stdout",
     "output_type": "stream",
     "text": [
      "valor2\n"
     ]
    }
   ],
   "source": [
    "# Convertendo para lista e acessando os elementos via posição\n",
    "print(list(dicionario8.values())[1])"
   ]
  },
  {
   "cell_type": "code",
   "execution_count": 18,
   "id": "4b39c07d-8078-4f7d-b532-92f81081840a",
   "metadata": {},
   "outputs": [
    {
     "name": "stdout",
     "output_type": "stream",
     "text": [
      "valor1\n",
      "valor2\n",
      "valor3\n"
     ]
    }
   ],
   "source": [
    "#Como imprimir todos os valores do dicionario a seguir sem saber quais são as chaves e quantos elementos ele possui.\n",
    "\n",
    "dicionario8 = {\n",
    "    \"chave1\":\"valor1\",\n",
    "    \"chave2\":\"valor2\",\n",
    "    \"chave3\":\"valor3\"\n",
    "}\n",
    "\n",
    "for valor in dicionario8.values():\n",
    "    print(valor)"
   ]
  },
  {
   "cell_type": "code",
   "execution_count": 22,
   "id": "f8fec159-f8e6-4c44-be8a-2a8c1cb1110d",
   "metadata": {},
   "outputs": [
    {
     "name": "stdout",
     "output_type": "stream",
     "text": [
      "Chave:  chave1\n",
      "Valor:  valor1\n",
      "Chave:  chave2\n",
      "Valor:  valor2\n",
      "Chave:  chave3\n",
      "Valor:  valor3\n"
     ]
    }
   ],
   "source": [
    "# Como imprimir todas as chaves e valores do dicionario a seguir sem saber quais são as chaves e quantos elementos ele possui\n",
    "\n",
    "dicionario8 = {\n",
    "    \"chave1\":\"valor1\",\n",
    "    \"chave2\":\"valor2\",\n",
    "    \"chave3\":\"valor3\"\n",
    "}\n",
    "\n",
    "for chave in dicionario8.keys():\n",
    "    print(\"Chave: \", chave)\n",
    "    print(\"Valor: \", dicionario8[chave])"
   ]
  },
  {
   "cell_type": "code",
   "execution_count": 25,
   "id": "a23c3205-bc4f-412b-beab-167087137b85",
   "metadata": {},
   "outputs": [
    {
     "name": "stdout",
     "output_type": "stream",
     "text": [
      "Chave:  chave1 Valor:  valor1\n",
      "Chave:  chave2 Valor:  valor2\n",
      "Chave:  chave3 Valor:  valor3\n"
     ]
    }
   ],
   "source": [
    "# A função items() retorna ao mesmo tempo a chave e o valor (retorno duplo).\n",
    "\n",
    "for chave,valor in dicionario8.items():\n",
    "    print(\"Chave: \",chave,\"Valor: \",valor)"
   ]
  },
  {
   "cell_type": "code",
   "execution_count": 26,
   "id": "1d07624c-d54d-4b7d-ac6a-ec1ed43d407b",
   "metadata": {},
   "outputs": [
    {
     "name": "stdout",
     "output_type": "stream",
     "text": [
      "80\n"
     ]
    }
   ],
   "source": [
    "# É possivel salvar uma lista como valor de um dicionario\n",
    "\n",
    "dicionario9 = {\n",
    "    \"notas1\":[80,50],\n",
    "    \"notas2\":[60,100],\n",
    "}\n",
    "\n",
    "print(dicionario9[\"notas1\"][0])"
   ]
  },
  {
   "cell_type": "code",
   "execution_count": 29,
   "id": "570a255f-53f3-4092-a823-9c62e273ca7b",
   "metadata": {},
   "outputs": [
    {
     "name": "stdout",
     "output_type": "stream",
     "text": [
      "{'nota1': 80, 'nota2': 95, 'nome': 'Chacon', 'CPF': '1245487555'}\n"
     ]
    }
   ],
   "source": [
    "# Pra unir 2 dicionarios se usa a função - update()\n",
    "\n",
    "diconario10 = {\n",
    "    \"nota1\":80,\n",
    "    \"nota2\":95,\n",
    "}\n",
    "\n",
    "dicionario11 = {\n",
    "    \"nome\":\"Chacon\",\n",
    "    \"CPF\":\"1245487555\"\n",
    "}\n",
    "\n",
    "diconario10.update(dicionario11)\n",
    "print(diconario10)\n",
    "    "
   ]
  },
  {
   "cell_type": "code",
   "execution_count": null,
   "id": "53fa0f47-3d98-4398-b270-cfdff3500126",
   "metadata": {},
   "outputs": [],
   "source": []
  }
 ],
 "metadata": {
  "kernelspec": {
   "display_name": "Python 3 (ipykernel)",
   "language": "python",
   "name": "python3"
  },
  "language_info": {
   "codemirror_mode": {
    "name": "ipython",
    "version": 3
   },
   "file_extension": ".py",
   "mimetype": "text/x-python",
   "name": "python",
   "nbconvert_exporter": "python",
   "pygments_lexer": "ipython3",
   "version": "3.10.4"
  }
 },
 "nbformat": 4,
 "nbformat_minor": 5
}
